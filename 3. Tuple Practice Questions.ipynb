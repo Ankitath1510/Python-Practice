{
 "cells": [
  {
   "cell_type": "markdown",
   "id": "d877b1d7-abc2-495d-a86c-062799d609be",
   "metadata": {},
   "source": [
    "#### Creating and Accessing Tuples\n",
    "Create a tuple with the first 10 positive integers. Print the tuple."
   ]
  },
  {
   "cell_type": "code",
   "execution_count": 5,
   "id": "8f1b8c7c-e3ca-45d7-a0c1-bfbc8778d960",
   "metadata": {},
   "outputs": [
    {
     "name": "stdout",
     "output_type": "stream",
     "text": [
      "(1, 2, 3, 4, 5, 6, 7, 8, 9, 10)\n"
     ]
    }
   ],
   "source": [
    "numbers = (1,2,3,4,5,6,7,8,9,10)\n",
    "print(numbers)"
   ]
  },
  {
   "cell_type": "markdown",
   "id": "27421af0-847e-4b2d-a377-ffe829f3f5a0",
   "metadata": {},
   "source": [
    "### Accessing Tuple Elements\n",
    "Print the first, middle, and last elements of the tuple created in Assignment 1."
   ]
  },
  {
   "cell_type": "code",
   "execution_count": 12,
   "id": "4f0feccb-e8be-4a45-aed9-c896213975ad",
   "metadata": {},
   "outputs": [
    {
     "name": "stdout",
     "output_type": "stream",
     "text": [
      "1 6 10\n"
     ]
    }
   ],
   "source": [
    "first_element = numbers[0]\n",
    "middle_element = numbers[len(numbers)//2]\n",
    "last_element = numbers[-1]\n",
    "print(first_element, middle_element, last_element)"
   ]
  },
  {
   "cell_type": "markdown",
   "id": "80bcb39e-11cd-4c3f-b37b-6e767f6f16e4",
   "metadata": {},
   "source": [
    "### Tuple Slicing\n",
    "Print the first three elements, the last three elements, and the elements from index 2 to 5 of the tuple created in Assignment 1."
   ]
  },
  {
   "cell_type": "code",
   "execution_count": 23,
   "id": "be9c3262-d5e8-445e-a1c9-47c2c86095d0",
   "metadata": {},
   "outputs": [
    {
     "name": "stdout",
     "output_type": "stream",
     "text": [
      "(1, 2, 3) (8, 9, 10) (3, 4, 5)\n"
     ]
    }
   ],
   "source": [
    "first_three = numbers[:3]\n",
    "last_three = numbers[-3:]\n",
    "index = numbers[2:5]\n",
    "print(first_three, last_three, index)"
   ]
  },
  {
   "cell_type": "markdown",
   "id": "1e3a6957-703c-425d-986a-7ad4d51321c2",
   "metadata": {},
   "source": [
    "#### Nested Tuples\n",
    "\n",
    "Create a nested tuple representing a 3x3 matrix and print the matrix. Access and print the element at the second row and third column."
   ]
  },
  {
   "cell_type": "code",
   "execution_count": 26,
   "id": "846df621-f41c-4a92-b762-2f1a2fbf15e7",
   "metadata": {},
   "outputs": [
    {
     "name": "stdout",
     "output_type": "stream",
     "text": [
      "6\n"
     ]
    }
   ],
   "source": [
    "matrix = (\n",
    "    [1,2,3],\n",
    "    [4,5,6],\n",
    "    [7,8,9]\n",
    ")\n",
    "print(matrix[1][2])"
   ]
  },
  {
   "cell_type": "markdown",
   "id": "f0da5b3c-b149-408b-96d6-435e611f4c6e",
   "metadata": {},
   "source": [
    "#### Tuple Concatenation\n",
    "\n",
    "Concatenate two tuples: (1, 2, 3) and (4, 5, 6). Print the resulting tuple."
   ]
  },
  {
   "cell_type": "code",
   "execution_count": 30,
   "id": "5c547587-91fe-4cba-be1c-1001e38c700a",
   "metadata": {},
   "outputs": [
    {
     "name": "stdout",
     "output_type": "stream",
     "text": [
      "(1, 2, 3, 4, 5, 6)\n"
     ]
    }
   ],
   "source": [
    "tuple1= (1,2,3)\n",
    "tuple2=(4,5,6)\n",
    "combined=tuple1+tuple2\n",
    "print(combined)"
   ]
  },
  {
   "cell_type": "markdown",
   "id": "7495b26b-745c-4d7f-93be-8dd48a246a85",
   "metadata": {},
   "source": [
    "#### Tuple Methods\n",
    "\n",
    "Create a tuple with duplicate elements and count the occurrences of an element. Find the index of the first occurrence of an element in the tuple."
   ]
  },
  {
   "cell_type": "code",
   "execution_count": 35,
   "id": "da7ba506-7963-4178-b292-35d66db0c9ee",
   "metadata": {},
   "outputs": [
    {
     "name": "stdout",
     "output_type": "stream",
     "text": [
      "2 1\n"
     ]
    }
   ],
   "source": [
    "numbers = (1,2,3,4,4,5,6,6,7)\n",
    "count = numbers.count(4)\n",
    "index = numbers.index(2)\n",
    "print(count, index)"
   ]
  },
  {
   "cell_type": "markdown",
   "id": "667a9f72-f82d-4174-bb2c-eccd99236821",
   "metadata": {},
   "source": [
    "#### Unpacking Tuples\n",
    "\n",
    "Create a tuple with 5 elements and unpack it into 5 variables. Print the variables.\n"
   ]
  },
  {
   "cell_type": "code",
   "execution_count": 38,
   "id": "f1747b15-fe32-4b8b-8265-5530fba3d19e",
   "metadata": {},
   "outputs": [
    {
     "name": "stdout",
     "output_type": "stream",
     "text": [
      "10\n",
      "20\n",
      "30\n",
      "40\n",
      "50\n"
     ]
    }
   ],
   "source": [
    "data = (10,20,30,40,50)\n",
    "a,b,c,d,e=data\n",
    "print(a)\n",
    "print(b)\n",
    "print(c)\n",
    "print(d)\n",
    "print(e)"
   ]
  },
  {
   "cell_type": "markdown",
   "id": "3f46e8e2-63a0-44cf-82c4-a2ca75144eff",
   "metadata": {},
   "source": [
    "#### Tuple Conversion\n",
    "\n",
    "Convert a list of the first 5 positive integers to a tuple. Print the tuple."
   ]
  },
  {
   "cell_type": "code",
   "execution_count": 43,
   "id": "030dd6c0-f490-4f70-ba0b-4330096ee98a",
   "metadata": {},
   "outputs": [
    {
     "name": "stdout",
     "output_type": "stream",
     "text": [
      "(1, 2, 3, 4, 5)\n"
     ]
    }
   ],
   "source": [
    "lst = [1,2,3,4,5]\n",
    "tuple_numbers=tuple(lst)\n",
    "print(tuple_numbers)"
   ]
  },
  {
   "cell_type": "markdown",
   "id": "5b2e5512-3b57-4751-a949-e22ae313fb61",
   "metadata": {},
   "source": [
    "#### Tuple of Tuples\n",
    "\n",
    "Create a tuple containing 3 tuples, each with 3 elements. Print the tuple of tuples."
   ]
  },
  {
   "cell_type": "code",
   "execution_count": 48,
   "id": "99171eaf-d05f-4c28-8bf2-229ec47b0d79",
   "metadata": {},
   "outputs": [
    {
     "name": "stdout",
     "output_type": "stream",
     "text": [
      "(1, (2, 3, 4), (4, 5, 6), (6, 7, 8))\n"
     ]
    }
   ],
   "source": [
    "tuple1 = (1,(2,3,4),(4,5,6),(6,7,8))\n",
    "print(tuple1)"
   ]
  },
  {
   "cell_type": "markdown",
   "id": "ed530734-f54a-44f3-b706-e8237d4a6967",
   "metadata": {},
   "source": [
    "#### Tuple and List\n",
    "\n",
    "Create a tuple with the first 5 positive integers. Convert it to a list, append the number 6, and convert it back to a tuple. Print the resulting tuple."
   ]
  },
  {
   "cell_type": "code",
   "execution_count": 53,
   "id": "ef282426-f1cf-45a7-9c6a-38e20ad937ec",
   "metadata": {},
   "outputs": [
    {
     "name": "stdout",
     "output_type": "stream",
     "text": [
      "[1, 2, 3, 4, 5]\n",
      "(1, 2, 3, 4, 5, 6)\n"
     ]
    }
   ],
   "source": [
    "tuple1 = (1,2,3,4,5)\n",
    "list1 = list(tuple1)\n",
    "print(list1)\n",
    "list1.append(6)\n",
    "tuple2 = tuple(list1)\n",
    "print(tuple2)"
   ]
  },
  {
   "cell_type": "markdown",
   "id": "477226ad-1832-4ea9-bbb1-ded8f4110ac3",
   "metadata": {},
   "source": [
    "#### Tuple and String\n",
    "\n",
    "Create a tuple with the characters of a string. Join the tuple elements into a single string. Print the string."
   ]
  },
  {
   "cell_type": "code",
   "execution_count": 60,
   "id": "671da0a6-e530-4edc-8902-e9c4091e4c57",
   "metadata": {},
   "outputs": [
    {
     "name": "stdout",
     "output_type": "stream",
     "text": [
      "('h', 'e', 'l', 'l', 'o', ' ', 'h', 'o', 'w', ' ', 'a', 'r', 'e', ' ', 'y', 'o', 'u')\n",
      "hello how are you\n"
     ]
    }
   ],
   "source": [
    "text = \"hello how are you\"\n",
    "tuple1 = tuple(text)\n",
    "print(tuple1)\n",
    "joined_string = ''.join(tuple1)\n",
    "print(joined_string)"
   ]
  },
  {
   "cell_type": "markdown",
   "id": "1d0fb195-d121-4079-9464-6b060a75f63f",
   "metadata": {},
   "source": [
    "#### Tuple and Dictionary\n",
    "\n",
    "Create a dictionary with tuple keys and integer values. Print the dictionary."
   ]
  },
  {
   "cell_type": "code",
   "execution_count": 67,
   "id": "d320f0e6-1eae-4d22-bbda-40316a21d000",
   "metadata": {},
   "outputs": [
    {
     "name": "stdout",
     "output_type": "stream",
     "text": [
      "(0, 0) => 1\n",
      "(1, 2) => 2\n",
      "(2, 3) => 3\n",
      "(3, 4) => 4\n"
     ]
    }
   ],
   "source": [
    "dict = {\n",
    "    (0,0):1,\n",
    "    (1,2):2,\n",
    "    (2,3):3,\n",
    "    (3,4):4\n",
    "    \n",
    "}\n",
    "for key, value in dict.items():\n",
    "    print (f\"{key} => {value}\")\n",
    "    "
   ]
  },
  {
   "cell_type": "markdown",
   "id": "dc04ede0-b665-4256-a37a-0cd16450b5be",
   "metadata": {},
   "source": [
    "#### Nested Tuple Iteration\n",
    "\n",
    "Create a nested tuple and iterate over the elements, printing each element."
   ]
  },
  {
   "cell_type": "code",
   "execution_count": 70,
   "id": "d7e0cf80-dbe8-465e-89d1-7853f993143b",
   "metadata": {},
   "outputs": [
    {
     "name": "stdout",
     "output_type": "stream",
     "text": [
      "1 2 3 \n",
      "4 5 6 \n",
      "7 8 9 \n"
     ]
    }
   ],
   "source": [
    "nested_tuple = (\n",
    "    (1,2,3),\n",
    "    (4,5,6),\n",
    "    (7,8,9)\n",
    ")\n",
    "for row in nested_tuple:\n",
    "    for item in row:\n",
    "        print(item, end=\" \")\n",
    "    print()"
   ]
  },
  {
   "cell_type": "markdown",
   "id": "8bf567fc-5217-41d2-ac7b-0453141c537c",
   "metadata": {},
   "source": [
    "#### Tuple and Set\n",
    "\n",
    "Create a tuple with duplicate elements. Convert it to a set to remove duplicates and print the resulting set."
   ]
  },
  {
   "cell_type": "code",
   "execution_count": 73,
   "id": "3e305608-0d34-4ecb-ae36-c4693519bd7d",
   "metadata": {},
   "outputs": [
    {
     "name": "stdout",
     "output_type": "stream",
     "text": [
      "{1, 2, 3, 4, 5}\n"
     ]
    }
   ],
   "source": [
    "tuple1= (1,2,2,2,3,4,5)\n",
    "set1=set(tuple1)\n",
    "print(set1)"
   ]
  },
  {
   "cell_type": "markdown",
   "id": "c64fa33d-4892-4b3d-9d33-0cd7144f4a57",
   "metadata": {},
   "source": [
    "#### Tuple Functions\n",
    "\n",
    "Write functions that take a tuple and return the minimum, maximum, and sum of the elements. Print the results for a sample tuple."
   ]
  },
  {
   "cell_type": "code",
   "execution_count": 78,
   "id": "9b05d672-a587-462a-b8d8-98393ff31cfe",
   "metadata": {},
   "outputs": [
    {
     "name": "stdout",
     "output_type": "stream",
     "text": [
      "1\n",
      "9\n",
      "32\n"
     ]
    }
   ],
   "source": [
    "def minimum(t):\n",
    "    return min(t)\n",
    "def maximum(t):\n",
    "    return max(t)\n",
    "def addition(t):\n",
    "    return sum(t)\n",
    "numbers = (5,2,1,8,9,7)\n",
    "print(min(numbers))\n",
    "print(max(numbers))\n",
    "print(sum(numbers))"
   ]
  },
  {
   "cell_type": "code",
   "execution_count": null,
   "id": "8a40525a-f534-4d64-bd64-865e3766fe12",
   "metadata": {},
   "outputs": [],
   "source": []
  }
 ],
 "metadata": {
  "kernelspec": {
   "display_name": "Python [conda env:base] *",
   "language": "python",
   "name": "conda-base-py"
  },
  "language_info": {
   "codemirror_mode": {
    "name": "ipython",
    "version": 3
   },
   "file_extension": ".py",
   "mimetype": "text/x-python",
   "name": "python",
   "nbconvert_exporter": "python",
   "pygments_lexer": "ipython3",
   "version": "3.12.7"
  }
 },
 "nbformat": 4,
 "nbformat_minor": 5
}
