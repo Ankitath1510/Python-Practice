{
 "cells": [
  {
   "cell_type": "markdown",
   "id": "2e41c17d-332e-400f-b4e7-fceb20cfc4e7",
   "metadata": {},
   "source": [
    "Write a Program to extract each digit from an integer in the reverse order.\n",
    "For example, If the given int is 7536, the output shall be “6 3 5 7“, with a space separating the digits"
   ]
  },
  {
   "cell_type": "code",
   "execution_count": 5,
   "id": "079fb8b4-2cab-4ac1-9118-535c02b00dd6",
   "metadata": {},
   "outputs": [
    {
     "name": "stdin",
     "output_type": "stream",
     "text": [
      "Enter the  number 5678\n"
     ]
    },
    {
     "data": {
      "text/plain": [
       "'8 7 6 5'"
      ]
     },
     "execution_count": 5,
     "metadata": {},
     "output_type": "execute_result"
    }
   ],
   "source": [
    "a = int(input(\"Enter the  number\"))\n",
    "y = ' '.join(str(a)[::-1])\n",
    "y"
   ]
  },
  {
   "cell_type": "markdown",
   "id": "5580c93a-7d55-4dd2-ad93-5f8980039e5f",
   "metadata": {},
   "source": [
    "Write a program that will give you the sum of 3 digits"
   ]
  },
  {
   "cell_type": "code",
   "execution_count": 10,
   "id": "760f0a33-1bbe-493f-ae97-0642d341c57e",
   "metadata": {},
   "outputs": [
    {
     "name": "stdin",
     "output_type": "stream",
     "text": [
      "Enter the number 567\n"
     ]
    },
    {
     "name": "stdout",
     "output_type": "stream",
     "text": [
      "18\n"
     ]
    }
   ],
   "source": [
    "x = int(input(\"Enter the number\"))\n",
    "a = x%10   #Gets the last digit\n",
    "num = x//10 #Gets first two digits\n",
    "b = num%10\n",
    "c = num//10\n",
    "print(a+b+c)"
   ]
  },
  {
   "cell_type": "markdown",
   "id": "4353fb25-af4c-490b-8693-5f1b4d5c30eb",
   "metadata": {},
   "source": [
    "Write a program that will reverse a four digit number. Also it checks whether the reverse is true."
   ]
  },
  {
   "cell_type": "code",
   "execution_count": 2,
   "id": "b19ba5dd-3cf4-4c38-b6d3-24c70e68c9ea",
   "metadata": {},
   "outputs": [
    {
     "name": "stdin",
     "output_type": "stream",
     "text": [
      "Enter a four digit number 1221\n"
     ]
    },
    {
     "name": "stdout",
     "output_type": "stream",
     "text": [
      "1221\n",
      "True\n"
     ]
    }
   ],
   "source": [
    "x = int(input(\"Enter a four digit number\"))\n",
    "print(str(x)[::-1])\n",
    "rev=str(x)[::-1]\n",
    "if rev==str(x):\n",
    "    print(True)\n",
    "else:\n",
    "    print(False)"
   ]
  },
  {
   "cell_type": "markdown",
   "id": "e19bc847-efab-467b-88c4-d5db699abd16",
   "metadata": {},
   "source": [
    "Second Method"
   ]
  },
  {
   "cell_type": "code",
   "execution_count": 18,
   "id": "19ef2062-a347-464e-9aa6-b4d20179170c",
   "metadata": {},
   "outputs": [
    {
     "name": "stdin",
     "output_type": "stream",
     "text": [
      "Enter the number 5678\n"
     ]
    },
    {
     "name": "stdout",
     "output_type": "stream",
     "text": [
      "8765\n"
     ]
    }
   ],
   "source": [
    "x = int(input(\"Enter the number\"))\n",
    "a = x%10   #Gets the last digit\n",
    "num = x//10  #Gets last 3 digits\n",
    "b = num%10 #Gets third last digit\n",
    "num1 = num//10\n",
    "c = num1%10\n",
    "d = num1//10\n",
    "\n",
    "Number = a*1000+b*100+c*10+d\n",
    "print(Number)"
   ]
  },
  {
   "cell_type": "markdown",
   "id": "82d99f40-8540-40db-9f0f-c976fdb32218",
   "metadata": {},
   "source": [
    "Write a program to find the euclidean distance between two coordinates"
   ]
  },
  {
   "cell_type": "code",
   "execution_count": 20,
   "id": "06b379f0-4f34-4190-9332-da70905e8a72",
   "metadata": {},
   "outputs": [
    {
     "name": "stdin",
     "output_type": "stream",
     "text": [
      "Enter the value of x1 5\n",
      "Enter the value of y1 6\n",
      "Enter the value of x2 7\n",
      "Enter the value of y2 8\n"
     ]
    },
    {
     "name": "stdout",
     "output_type": "stream",
     "text": [
      "The Euclidean distance is 2.8284271247461903\n"
     ]
    }
   ],
   "source": [
    "import math\n",
    "x1 = float(input(\"Enter the value of x1\"))\n",
    "y1 = float(input(\"Enter the value of y1\"))\n",
    "x2 = float(input(\"Enter the value of x2\"))\n",
    "y2 = float(input(\"Enter the value of y2\"))\n",
    "x = [x1, y1]\n",
    "y = [x2, y2]\n",
    "print(\"The Euclidean distance is\", math.dist(x,y))"
   ]
  },
  {
   "cell_type": "markdown",
   "id": "4860f0fc-d159-4ab7-9220-cdaa481f0edc",
   "metadata": {},
   "source": [
    "Write a program that will tell whether the given number is divisible by 3 & 6."
   ]
  },
  {
   "cell_type": "code",
   "execution_count": 21,
   "id": "5150d659-988c-4382-8f91-4dab6614784a",
   "metadata": {},
   "outputs": [
    {
     "name": "stdin",
     "output_type": "stream",
     "text": [
      "Enter the number 56\n"
     ]
    },
    {
     "name": "stdout",
     "output_type": "stream",
     "text": [
      "Number is not divisible\n"
     ]
    }
   ],
   "source": [
    "x = int(input(\"Enter the number\"))\n",
    "if(num%3==0 and num%6==0):\n",
    "    print(\"Number is divisible by 3 and 6\")\n",
    "else:\n",
    "    print(\"Number is not divisible\")"
   ]
  },
  {
   "cell_type": "markdown",
   "id": "37dd6e19-03af-4f14-a033-049e1c50be6f",
   "metadata": {},
   "source": [
    "Write a program that will take three digits from the user and add the square of each digit."
   ]
  },
  {
   "cell_type": "code",
   "execution_count": 22,
   "id": "8553a4ec-eafe-4eda-8729-1962c0a34fc8",
   "metadata": {},
   "outputs": [
    {
     "name": "stdin",
     "output_type": "stream",
     "text": [
      "Enter the number 567\n"
     ]
    },
    {
     "name": "stdout",
     "output_type": "stream",
     "text": [
      "110\n"
     ]
    }
   ],
   "source": [
    "x = int(input(\"Enter the number\"))\n",
    "a = x%10\n",
    "num = x//10\n",
    "b = num%10\n",
    "c = num//10\n",
    "sum = a**2+b**2+c**2\n",
    "print(sum)"
   ]
  },
  {
   "cell_type": "markdown",
   "id": "41b04a99-a0a7-4b45-b48f-abb540373c52",
   "metadata": {},
   "source": [
    "Write a program that will check whether the number is armstrong number or not."
   ]
  },
  {
   "cell_type": "code",
   "execution_count": 26,
   "id": "4755efc0-bcf4-4fa7-9096-93707a12abf6",
   "metadata": {},
   "outputs": [
    {
     "name": "stdin",
     "output_type": "stream",
     "text": [
      "Enter three digit number 153\n"
     ]
    },
    {
     "name": "stdout",
     "output_type": "stream",
     "text": [
      "The number is armstrong\n"
     ]
    }
   ],
   "source": [
    "x = int(input(\"Enter three digit number\"))\n",
    "a = x%10\n",
    "num = x//10\n",
    "b = num%10\n",
    "c = num//10\n",
    "if(((a**3)+(b**3)+(c**3))==x):\n",
    "    print(\"The number is armstrong\")\n",
    "else:\n",
    "    print(\"The number is not armstrong\")"
   ]
  },
  {
   "cell_type": "markdown",
   "id": "085f0551-7340-4bc5-8c64-6ff21c30f8a7",
   "metadata": {},
   "source": [
    "Write a program that will take user input of (4 digits number) and check whether the number isnarcissist number or not."
   ]
  },
  {
   "cell_type": "code",
   "execution_count": 28,
   "id": "8faa2348-c16f-45de-aa6a-3f226bdd143c",
   "metadata": {},
   "outputs": [
    {
     "name": "stdin",
     "output_type": "stream",
     "text": [
      "Enter a four digit number 1634\n"
     ]
    },
    {
     "name": "stdout",
     "output_type": "stream",
     "text": [
      "The number is narcissitic\n"
     ]
    }
   ],
   "source": [
    "x = int(input(\"Enter a four digit number\"))\n",
    "a = x%10\n",
    "num = x//10\n",
    "b = num%10\n",
    "num1= num//10\n",
    "c = num1%10\n",
    "d = num1//10\n",
    "if((a**4+b**4+c**4+d**4)==x):\n",
    "    print(\"The number is narcissitic\")\n",
    "else:\n",
    "    print(\"The number is not narcissistic\")"
   ]
  },
  {
   "cell_type": "markdown",
   "id": "4078c4bc-8e23-4740-b3a5-4a52bff7b5cd",
   "metadata": {},
   "source": [
    "Display three string “Name”, “Is”, “James” as “Name ** Is ** James”"
   ]
  },
  {
   "cell_type": "code",
   "execution_count": 29,
   "id": "577ae9e9-5466-4425-a317-7c4115662ebb",
   "metadata": {},
   "outputs": [
    {
     "name": "stdout",
     "output_type": "stream",
     "text": [
      "name**is**James\n"
     ]
    }
   ],
   "source": [
    "print(\"name\", \"is\", \"James\", sep=\"**\")"
   ]
  },
  {
   "cell_type": "markdown",
   "id": "4eac520f-3d21-495b-8f98-fd2568a1abdd",
   "metadata": {},
   "source": [
    "Convert Decimal number to octal using print() output formatting"
   ]
  },
  {
   "cell_type": "code",
   "execution_count": 33,
   "id": "638f6e40-c766-4cdc-ba7d-d5b7f711a233",
   "metadata": {},
   "outputs": [
    {
     "name": "stdout",
     "output_type": "stream",
     "text": [
      "14\n"
     ]
    }
   ],
   "source": [
    "number =12\n",
    "print(oct(number)[-2:])"
   ]
  },
  {
   "cell_type": "markdown",
   "id": "aa11185a-d6a9-4a5d-b6d3-1520e8a7011f",
   "metadata": {},
   "source": [
    "Display float number with 2 decimal places using print()"
   ]
  },
  {
   "cell_type": "code",
   "execution_count": 34,
   "id": "f907e05c-8be7-4b8e-a0f0-6ec9ffc17b6f",
   "metadata": {},
   "outputs": [
    {
     "name": "stdout",
     "output_type": "stream",
     "text": [
      "3.15\n"
     ]
    }
   ],
   "source": [
    "number = 3.1456788\n",
    "print(round(number, 2))"
   ]
  },
  {
   "cell_type": "markdown",
   "id": "1d700e14-e1c5-43cf-9482-a3f3435c5076",
   "metadata": {},
   "source": [
    "Print all factors of a given number provided by the user."
   ]
  },
  {
   "cell_type": "code",
   "execution_count": 36,
   "id": "02526970-fe90-4973-bd6a-30a43a7753a7",
   "metadata": {},
   "outputs": [
    {
     "name": "stdin",
     "output_type": "stream",
     "text": [
      "Enter the number 88\n"
     ]
    },
    {
     "name": "stdout",
     "output_type": "stream",
     "text": [
      "1 2 4 8 11 22 44 88 "
     ]
    }
   ],
   "source": [
    "n = int(input(\"Enter the number\"))\n",
    "for i in range(1,n+1):\n",
    "    if(n%i==0):\n",
    "        print(i, end=\" \")"
   ]
  },
  {
   "cell_type": "markdown",
   "id": "247e02d1-3e87-4fd5-90e3-07571735fac8",
   "metadata": {},
   "source": [
    "Write all content of a given file into a new file by skipping line number 5"
   ]
  },
  {
   "cell_type": "code",
   "execution_count": 42,
   "id": "875fdb4f-ebb7-44ad-9a14-525e17320e44",
   "metadata": {},
   "outputs": [],
   "source": [
    "with open(\"C:/Users/ankit/OneDrive/Desktop/Road to Data Science/Python for Data Science Files/Test.txt\",'r') as fp:\n",
    "    lines = fp.readlines()\n",
    "with open(\"C:/Users/ankit/OneDrive/Desktop/Road to Data Science/Python for Data Science Files/Test2.txt\",'w') as fp:\n",
    "    count=0\n",
    "    for line in lines:\n",
    "        if count==4:\n",
    "            count=+1\n",
    "            continue\n",
    "        else:\n",
    "            fp.write(line)\n",
    "        count+=1"
   ]
  },
  {
   "cell_type": "markdown",
   "id": "682527c5-3508-44d4-bb99-36911bd91f10",
   "metadata": {},
   "source": [
    "Accept any three string from one input() call"
   ]
  },
  {
   "cell_type": "code",
   "execution_count": 45,
   "id": "0ca5537e-a521-4659-9ea4-cc95a36d29ee",
   "metadata": {},
   "outputs": [
    {
     "name": "stdin",
     "output_type": "stream",
     "text": [
      "Enter the string Hello my name is Ankita\n"
     ]
    },
    {
     "name": "stdout",
     "output_type": "stream",
     "text": [
      "Hello\n",
      "my\n",
      "name\n"
     ]
    }
   ],
   "source": [
    "a = str(input(\"Enter the string\"))\n",
    "sep = a.split()\n",
    "name1 = sep[0]\n",
    "name2 = sep[1]\n",
    "name3 = sep[2]\n",
    "print(name1)\n",
    "print(name2)\n",
    "print(name3)"
   ]
  },
  {
   "cell_type": "markdown",
   "id": "41cf5073-96a3-4e03-a8e8-25e405af6ef7",
   "metadata": {},
   "source": [
    "Format variables using a string.format() method. Write a program to use string.format() methodto format the following three variables as per the expected output"
   ]
  },
  {
   "cell_type": "code",
   "execution_count": 1,
   "id": "08e86f12-676b-48df-a725-8ada92e8bc64",
   "metadata": {},
   "outputs": [
    {
     "name": "stdout",
     "output_type": "stream",
     "text": [
      "I have 1000 money with quantity 3 and price450\n"
     ]
    }
   ],
   "source": [
    "totalMoney = 1000\n",
    "quantity = 3\n",
    "price = 450\n",
    "print(\"I have {} money with quantity {} and price{}\".format(totalMoney, quantity, price))"
   ]
  },
  {
   "cell_type": "markdown",
   "id": "4feb2978-f275-420f-891a-f6ce047d655a",
   "metadata": {},
   "source": [
    "Check file is empty or not Write a program to check if the given file is empty or not"
   ]
  },
  {
   "cell_type": "code",
   "execution_count": 2,
   "id": "1f030d31-16a0-49b6-a196-004672b5e047",
   "metadata": {},
   "outputs": [
    {
     "name": "stdout",
     "output_type": "stream",
     "text": [
      "File is not empty\n"
     ]
    }
   ],
   "source": [
    "import os\n",
    "size = os.stat(\"C:/Users/ankit/OneDrive/Desktop/Road to Data Science/Python for Data Science Files/Test.txt\").st_size\n",
    "\n",
    "if size==0:\n",
    "    print(\"File is empty\")\n",
    "else:\n",
    "    print(\"File is not empty\")"
   ]
  },
  {
   "cell_type": "markdown",
   "id": "18ab6dd6-89ab-41b3-8138-0d21989f889e",
   "metadata": {},
   "source": [
    "Read line number 4 from the following file"
   ]
  },
  {
   "cell_type": "code",
   "execution_count": 3,
   "id": "1238d682-53d7-460b-a619-597b3623e4a9",
   "metadata": {},
   "outputs": [
    {
     "name": "stdout",
     "output_type": "stream",
     "text": [
      "line4\n",
      "\n"
     ]
    }
   ],
   "source": [
    "with open(\"C:/Users/ankit/OneDrive/Desktop/Road to Data Science/Python for Data Science Files/Test.txt\") as fp:\n",
    "    lines = fp.readlines()\n",
    "    print(lines[3])"
   ]
  },
  {
   "cell_type": "markdown",
   "id": "f95ce5f3-dd69-49ac-b0d6-4928157ecdf4",
   "metadata": {},
   "source": [
    "Write a program to find the simple interest when the value of principle,rate of interest and timeperiod is given."
   ]
  },
  {
   "cell_type": "code",
   "execution_count": 4,
   "id": "b996e096-b1df-4bbe-bd32-78bf5b0589be",
   "metadata": {},
   "outputs": [
    {
     "name": "stdin",
     "output_type": "stream",
     "text": [
      "Enter the value of Principal 5000\n",
      "Enter the value of Rate 10\n",
      "Enter the value of duration 2\n"
     ]
    },
    {
     "name": "stdout",
     "output_type": "stream",
     "text": [
      "Simple Interest is 1000.0 and Amount is 6000.0\n"
     ]
    }
   ],
   "source": [
    "P = float(input(\"Enter the value of Principal\"))\n",
    "R = float(input(\"Enter the value of Rate\"))\n",
    "N = float(input(\"Enter the value of duration\"))\n",
    "SI = (P*R*N)/100\n",
    "A = P+SI\n",
    "print(\"Simple Interest is\", SI, \"and Amount is\", A)"
   ]
  },
  {
   "cell_type": "markdown",
   "id": "77d62138-210c-437b-ab01-3cdf5d10b4ba",
   "metadata": {},
   "source": [
    "Write a program to find the volume of the cylinder. Also find the cost when ,when the cost of1litre milk is 40Rs."
   ]
  },
  {
   "cell_type": "code",
   "execution_count": 9,
   "id": "230e8a16-081c-4d54-925c-036952b54954",
   "metadata": {},
   "outputs": [
    {
     "name": "stdin",
     "output_type": "stream",
     "text": [
      "Enter the value of radius 5\n",
      "Enter the value of height 6\n"
     ]
    },
    {
     "name": "stdout",
     "output_type": "stream",
     "text": [
      "Volume of cylinder is 471.0\n",
      "Cost is 18.84\n"
     ]
    }
   ],
   "source": [
    "r = float(input(\"Enter the value of radius\"))\n",
    "h = float(input(\"Enter the value of height\"))\n",
    "pi = 3.14\n",
    "Volume = pi*r**2*h\n",
    "print(\"Volume of cylinder is\", Volume)\n",
    "cost = Volume/1000*40\n",
    "print(\"Cost is\", cost)"
   ]
  },
  {
   "cell_type": "markdown",
   "id": "4e115b33-36aa-47f0-889e-b37aeaa7f651",
   "metadata": {},
   "source": [
    "Print the sum of the current number and the previous number Write a program to iterate the first10 numbers and in each iteration, print the sum of the current and previous number."
   ]
  },
  {
   "cell_type": "code",
   "execution_count": 11,
   "id": "288b42dd-804d-43ab-94d1-66c63d10ff3d",
   "metadata": {},
   "outputs": [
    {
     "name": "stdout",
     "output_type": "stream",
     "text": [
      "1 3 5 7 9 11 13 15 17 19 "
     ]
    }
   ],
   "source": [
    "prev_num = 0\n",
    "for i in range(1,11):\n",
    "    x = prev_num+i\n",
    "    prev_num=i\n",
    "\n",
    "    print(x, end=\" \")"
   ]
  },
  {
   "cell_type": "markdown",
   "id": "8a5a3dfb-8df3-42ae-9786-df17ad6f16f0",
   "metadata": {},
   "source": [
    "Write a python program to search a given number from a list"
   ]
  },
  {
   "cell_type": "code",
   "execution_count": 18,
   "id": "0fede197-b2ac-45b9-bbee-6dd1d6231b88",
   "metadata": {},
   "outputs": [
    {
     "name": "stdin",
     "output_type": "stream",
     "text": [
      "Enter the number 7\n"
     ]
    },
    {
     "name": "stdout",
     "output_type": "stream",
     "text": [
      "the number is 7\n"
     ]
    }
   ],
   "source": [
    "l1 = list(range(5,15))\n",
    "n = int(input(\"Enter the number\"))\n",
    "for i in l1:\n",
    "    if i==n:\n",
    "        print(\"the number is\",i)\n",
    "        break\n"
   ]
  },
  {
   "cell_type": "markdown",
   "id": "396b5732-9437-4892-b8d8-f2a73ea15a19",
   "metadata": {},
   "source": [
    "Check Palindrome Number Write a program to check if the given number is a palindromenumber."
   ]
  },
  {
   "cell_type": "code",
   "execution_count": 25,
   "id": "ecce60e0-1914-44c4-9d36-024d2c222c07",
   "metadata": {},
   "outputs": [
    {
     "name": "stdin",
     "output_type": "stream",
     "text": [
      "Enter the number 567\n"
     ]
    },
    {
     "name": "stdout",
     "output_type": "stream",
     "text": [
      "765\n",
      "The number is not palindrome\n"
     ]
    }
   ],
   "source": [
    "n = input(\"Enter the number\")\n",
    "rev_n = n[::-1]\n",
    "print(rev_n)\n",
    "if(n==rev_n):\n",
    "    print(\"The number is palindrome\")\n",
    "else:\n",
    "    print(\"The number is not palindrome\")"
   ]
  },
  {
   "cell_type": "markdown",
   "id": "5e1d684e-e428-45f9-986a-5b01d7c3f662",
   "metadata": {},
   "source": [
    "Create a new list from a two list using the following condition Given a two list of numbers, writea program to create a new list such that the new list should contain odd numbers from the first list and evennumbers from the second list."
   ]
  },
  {
   "cell_type": "code",
   "execution_count": 34,
   "id": "65cb2c1d-56aa-4375-9f61-472928f540c7",
   "metadata": {},
   "outputs": [
    {
     "name": "stdout",
     "output_type": "stream",
     "text": [
      "[1, 3, 5, 7, 9, 12, 14, 16, 18, 20]\n"
     ]
    }
   ],
   "source": [
    "l1 = [1,2,3,4,5,6,7,8,9,10]\n",
    "l2 = [11,12,13,14,15,16,17,18,19,20]\n",
    "\n",
    "l3=[]\n",
    "for i in l1:\n",
    "    if i%2!=0:\n",
    "        l3.append(i)\n",
    "\n",
    "for i in l2:\n",
    "    if i%2==0:\n",
    "        l3.append(i)\n",
    "\n",
    "print(l3)"
   ]
  },
  {
   "cell_type": "markdown",
   "id": "02b0644f-be20-4a45-a75d-b733111920df",
   "metadata": {},
   "source": [
    "Calculate income tax for the given income by adhering to the below rules first 10k--> 0% second10 --> 10% remaining-->20%\n",
    "Expected Output:\n",
    "For example, suppose the taxable income is 45000 the income tax payable is\n",
    "10000\n",
    "0% + 10000\n",
    "10% + 25000*20% = $6000."
   ]
  },
  {
   "cell_type": "code",
   "execution_count": 37,
   "id": "ecb85ea7-3e77-41b4-92ca-891ea239bded",
   "metadata": {},
   "outputs": [
    {
     "name": "stdin",
     "output_type": "stream",
     "text": [
      "Enter the salary 45000\n"
     ]
    },
    {
     "name": "stdout",
     "output_type": "stream",
     "text": [
      "6000.0\n"
     ]
    }
   ],
   "source": [
    "n = int(input(\"Enter the salary\"))\n",
    "if n<10000:\n",
    "    print(n)\n",
    "else:\n",
    "    a=n-10000\n",
    "    b=a-10000\n",
    "    c=b*0.2\n",
    "    d=c+1000\n",
    "print(d)"
   ]
  },
  {
   "cell_type": "markdown",
   "id": "29d25f6c-c6b5-4347-900f-425c4c2e27e7",
   "metadata": {},
   "source": [
    "Print multiplication table form 1 to 10"
   ]
  },
  {
   "cell_type": "code",
   "execution_count": 43,
   "id": "4a14b2e0-0e98-4a69-a2f5-d0cd53344662",
   "metadata": {},
   "outputs": [
    {
     "name": "stdout",
     "output_type": "stream",
     "text": [
      "1 2 3 4 5 6 7 8 9 10 \n",
      "\n",
      "2 4 6 8 10 12 14 16 18 20 \n",
      "\n",
      "3 6 9 12 15 18 21 24 27 30 \n",
      "\n",
      "4 8 12 16 20 24 28 32 36 40 \n",
      "\n",
      "5 10 15 20 25 30 35 40 45 50 \n",
      "\n",
      "6 12 18 24 30 36 42 48 54 60 \n",
      "\n",
      "7 14 21 28 35 42 49 56 63 70 \n",
      "\n",
      "8 16 24 32 40 48 56 64 72 80 \n",
      "\n",
      "9 18 27 36 45 54 63 72 81 90 \n",
      "\n",
      "10 20 30 40 50 60 70 80 90 100 \n",
      "\n"
     ]
    }
   ],
   "source": [
    "for i in range(1,11):\n",
    "    for j in range(1,11):\n",
    "        print(i*j, end=\" \")\n",
    "    print('\\n')"
   ]
  },
  {
   "cell_type": "markdown",
   "id": "99ba229e-12f0-4072-969b-f75d756acf72",
   "metadata": {},
   "source": [
    "Print all the armstrong numbers in the range of 100 to 1000"
   ]
  },
  {
   "cell_type": "code",
   "execution_count": 57,
   "id": "cf9571a9-7699-4319-bc87-dba0f51939e2",
   "metadata": {},
   "outputs": [
    {
     "name": "stdout",
     "output_type": "stream",
     "text": [
      "[153, 370, 371, 407]\n"
     ]
    }
   ],
   "source": [
    "armstrong_list = []\n",
    "for i in range(100,1000):\n",
    "    a=i%10\n",
    "    num = i//10\n",
    "    b=num%10\n",
    "    c=num//10\n",
    "    if(a**3+b**3+c**3==i):\n",
    "        armstrong_list.append(i)\n",
    "print(armstrong_list)\n",
    "    "
   ]
  },
  {
   "cell_type": "code",
   "execution_count": 56,
   "id": "8c57ba82-1578-4859-82a2-70dce8f6db7b",
   "metadata": {},
   "outputs": [
    {
     "name": "stdout",
     "output_type": "stream",
     "text": [
      "7 6 5\n"
     ]
    }
   ],
   "source": [
    "i = 567\n",
    "a=i%10\n",
    "num = i//10\n",
    "b=num%10\n",
    "c=num//10\n",
    "print(a,b,c)\n"
   ]
  },
  {
   "cell_type": "markdown",
   "id": "b01ea36f-028e-47d4-8380-c436806a05c9",
   "metadata": {},
   "source": [
    "The current population of a town is 10000. The population of the town is increasing at the rateof 10% per year. You have to write a program to find out the population at the end of each of the last 10years. For eg current population is 10000 so the output should be like this:\n",
    "#10th year - 10000\n",
    "#9th year - 9000\n",
    "#8th year - 8100 and so on"
   ]
  },
  {
   "cell_type": "code",
   "execution_count": 58,
   "id": "a205d973-c89b-4c0a-a7fa-6aed64648855",
   "metadata": {},
   "outputs": [
    {
     "name": "stdout",
     "output_type": "stream",
     "text": [
      "9000 8100 7290 6561 5905 5314 4783 4305 3874 "
     ]
    }
   ],
   "source": [
    "p=10000\n",
    "for i in range(1,10):\n",
    "    p=p-0.1*p\n",
    "    print(round(p), end=\" \")"
   ]
  },
  {
   "cell_type": "markdown",
   "id": "952e30dd-89f3-4544-bf6f-41c31c9ba5cb",
   "metadata": {},
   "source": [
    "Write a program to print all the unique combinations of two digits from 1 to 4 for ex (1,2),(2,3).."
   ]
  },
  {
   "cell_type": "code",
   "execution_count": 60,
   "id": "384ff128-7068-4bcb-ae20-9404cfe2225c",
   "metadata": {},
   "outputs": [
    {
     "name": "stdout",
     "output_type": "stream",
     "text": [
      "1 2\n",
      "1 3\n",
      "1 4\n",
      "2 1\n",
      "2 3\n",
      "2 4\n",
      "3 1\n",
      "3 2\n",
      "3 4\n",
      "4 1\n",
      "4 2\n",
      "4 3\n"
     ]
    }
   ],
   "source": [
    "for i in range(1,5):\n",
    "    for j in range(1,5):\n",
    "        if i!=j:\n",
    "            print(i,j)"
   ]
  },
  {
   "cell_type": "markdown",
   "id": "0fda1a4a-74a0-41e8-aad2-6a42f2182440",
   "metadata": {},
   "source": [
    "Write a program to print whether a given number is prime number or not"
   ]
  },
  {
   "cell_type": "code",
   "execution_count": 62,
   "id": "dd589d72-544f-47d7-a335-fcfe3b5fbf6c",
   "metadata": {},
   "outputs": [
    {
     "name": "stdin",
     "output_type": "stream",
     "text": [
      "Enter the number 49\n"
     ]
    },
    {
     "name": "stdout",
     "output_type": "stream",
     "text": [
      "The number is not prime number\n"
     ]
    }
   ],
   "source": [
    "n = int(input(\"Enter the number\"))\n",
    "prime = []\n",
    "if(n==1):\n",
    "    print(\"1 is not prime number\")\n",
    "else:\n",
    "    for i in range(1, n+1):\n",
    "        if(n%i==0):\n",
    "            prime.append(i)\n",
    "if(len(prime)>2):\n",
    "    print(\"The number is not prime number\")\n",
    "else:\n",
    "    print(\"The number is prime\")"
   ]
  },
  {
   "cell_type": "markdown",
   "id": "061e0313-4088-4738-8a3a-3db4da686053",
   "metadata": {},
   "source": [
    "User will provide 2 numbers you have to find the HCF of those 2 numbers"
   ]
  },
  {
   "cell_type": "code",
   "execution_count": 65,
   "id": "2b51eac2-bbc6-48cf-8398-e8588a49c807",
   "metadata": {},
   "outputs": [
    {
     "name": "stdin",
     "output_type": "stream",
     "text": [
      "Enter first number 34\n",
      "Enter second number 56\n"
     ]
    },
    {
     "name": "stdout",
     "output_type": "stream",
     "text": [
      "[1, 2]\n"
     ]
    }
   ],
   "source": [
    "a = int(input(\"Enter first number\"))\n",
    "b = int(input(\"Enter second number\"))\n",
    "a_div = []\n",
    "b_div = []\n",
    "\n",
    "for i in range(1, a+1):\n",
    "    if(a%i == 0):\n",
    "        a_div.append(i)\n",
    "\n",
    "for i in range(1, b+1):\n",
    "    if(b%i==0):\n",
    "        b_div.append(i)\n",
    "        \n",
    "common_list=[]\n",
    "\n",
    "for i in a_div:\n",
    "    if i in b_div:\n",
    "        common_list.append(i)\n",
    "\n",
    "print(common_list)\n"
   ]
  },
  {
   "cell_type": "markdown",
   "id": "6d7316bc-96be-4066-80ff-63fb833bec8b",
   "metadata": {},
   "source": [
    "User will provide 2 numbers you have to find the by LCM of those 2 numbers"
   ]
  },
  {
   "cell_type": "code",
   "execution_count": 3,
   "id": "ceb4ac63-a264-4416-abe7-f7380d5e7d90",
   "metadata": {},
   "outputs": [
    {
     "name": "stdin",
     "output_type": "stream",
     "text": [
      "Enter first number 4\n",
      "Enter second number 6\n"
     ]
    },
    {
     "name": "stdout",
     "output_type": "stream",
     "text": [
      "12\n"
     ]
    }
   ],
   "source": [
    "a = int(input(\"Enter first number\"))\n",
    "b = int(input(\"Enter second number\"))\n",
    "\n",
    "if a>b:\n",
    "    greater=a\n",
    "else:\n",
    "    greater=b\n",
    "\n",
    "while(True):\n",
    "    if(greater%a==0) and (greater%b==0):\n",
    "        LCM=greater\n",
    "        break\n",
    "    greater=greater+1\n",
    "\n",
    "print(LCM)"
   ]
  },
  {
   "cell_type": "markdown",
   "id": "8580ce58-ff36-45a8-9478-55aef598b184",
   "metadata": {},
   "source": [
    "Write a program that take a user input of three angles and will find out whether it can form a triangle or not."
   ]
  },
  {
   "cell_type": "code",
   "execution_count": 6,
   "id": "7415f5df-9c03-43d0-a41b-59dfb3ebb684",
   "metadata": {},
   "outputs": [
    {
     "name": "stdin",
     "output_type": "stream",
     "text": [
      "Enter the first angle 30\n",
      "Enter the second angle 60\n",
      "Enter the third angle 90\n"
     ]
    },
    {
     "name": "stdout",
     "output_type": "stream",
     "text": [
      "It is a triangle\n"
     ]
    }
   ],
   "source": [
    "a=float(input(\"Enter the first angle\"))\n",
    "b=float(input(\"Enter the second angle\"))\n",
    "c=float(input(\"Enter the third angle\"))\n",
    "if(a+b+c)==180 and a!=0 and b!=0 and c!=0:\n",
    "    print(\"It is a triangle\")\n",
    "else:\n",
    "    print(\"It is not a triangle\")"
   ]
  },
  {
   "cell_type": "markdown",
   "id": "f37224fe-e58d-42df-b57a-90c9c661c55b",
   "metadata": {},
   "source": [
    "Write a program that will determine weather when the value of temperature and humidity is provided by the user.\n",
    "TEMPERATURE(C) HUMIDITY(%) WEATHER\n",
    ">= 30 >=90 Hot and Humid\n",
    ">= 30 < 90 Hot\n",
    "<30 >= 90 Cool and Humid\n",
    "<30 <90 Cool"
   ]
  },
  {
   "cell_type": "code",
   "execution_count": 15,
   "id": "68c0e73e-2557-4218-ba86-3a2b08f95e33",
   "metadata": {},
   "outputs": [
    {
     "name": "stdin",
     "output_type": "stream",
     "text": [
      "Enter the value of temperature 45\n",
      "Enter the value of humidity 0\n"
     ]
    },
    {
     "name": "stdout",
     "output_type": "stream",
     "text": [
      "Weather is hot\n"
     ]
    }
   ],
   "source": [
    "temp = int(input(\"Enter the value of temperature\"))\n",
    "humidity = int(input(\"Enter the value of humidity\"))\n",
    "if(temp>=30 and humidity>=90):\n",
    "    print(\"Weather is hot and humid\")\n",
    "elif(temp>30 and humidity<90):\n",
    "    print(\"Weather is hot\")\n",
    "elif(temp<30 and humidity>=90):\n",
    "    print(\"Weather is cool and humid\")\n",
    "elif(temp<30 and humidity<90):\n",
    "    print(\"Weather is cool\")"
   ]
  },
  {
   "cell_type": "markdown",
   "id": "faaea4d4-a3f4-4324-93bb-9d38aaeedeb6",
   "metadata": {},
   "source": [
    "Write a program that will take user input of cost price and selling price and determines whetherits a loss or a profit."
   ]
  },
  {
   "cell_type": "code",
   "execution_count": 20,
   "id": "b75fca04-56be-4ce4-af1d-a36339f257c8",
   "metadata": {},
   "outputs": [
    {
     "name": "stdin",
     "output_type": "stream",
     "text": [
      "Enter the Cost Price 5000\n",
      "Ente the selling price 4000\n"
     ]
    },
    {
     "name": "stdout",
     "output_type": "stream",
     "text": [
      "Profit is 1000\n"
     ]
    }
   ],
   "source": [
    "CP = int(input(\"Enter the Cost Price\"))\n",
    "SP = int(input(\"Ente the selling price\"))\n",
    "if SP>CP:\n",
    "    print(\"Profit is\",SP-CP)\n",
    "else:\n",
    "    print(\"Profit is\", CP-SP)"
   ]
  },
  {
   "cell_type": "markdown",
   "id": "3cc164ea-7add-4d8e-8677-3bdff1674160",
   "metadata": {},
   "source": [
    "Write a program that will give you the in hand salary after deduction of HRA(10%),\n",
    "DA(5%),\n",
    "PF(3%),\n",
    "and tax\n",
    "(if salary is between 5-10 lakh–10%),\n",
    "(11-20lakh–20%),\n",
    "(20< _ – 30%)\n",
    "(0-1lakh print k)."
   ]
  },
  {
   "cell_type": "code",
   "execution_count": 26,
   "id": "4f1539d8-bd2b-4488-8928-991d833b025a",
   "metadata": {},
   "outputs": [
    {
     "name": "stdin",
     "output_type": "stream",
     "text": [
      "Enter the salary 300000\n"
     ]
    },
    {
     "name": "stdout",
     "output_type": "stream",
     "text": [
      "No Tax\n",
      "Salary after tax 300000\n",
      "Inhand salary is 246000.0\n"
     ]
    }
   ],
   "source": [
    "sal = int(input(\"Enter the salary\"))\n",
    "if(sal in range(500000, 1000000)):\n",
    "    sal=sal-sal*0.1\n",
    "elif(sal in range(1100000, 2000000)):\n",
    "    sal=sal-sal*0.2\n",
    "elif(sal>2000000):\n",
    "    sal=sal-sal*0.3\n",
    "else:\n",
    "    print(\"No Tax\")\n",
    "print(\"Salary after tax\", sal)\n",
    "\n",
    "hra=sal*0.1\n",
    "da=sal*0.05\n",
    "pf=sal*0.03\n",
    "\n",
    "rem_sal=sal-(hra+da+pf)\n",
    "print(\"Inhand salary is\",rem_sal)"
   ]
  },
  {
   "cell_type": "markdown",
   "id": "3bcd5518-0acd-4390-92dd-b88e7626086c",
   "metadata": {},
   "source": [
    "Write a program to find the sum of first n numbers, where n will be provided by the user. Eg ifthe user provides n=10 the output should be 55."
   ]
  },
  {
   "cell_type": "code",
   "execution_count": 29,
   "id": "5d21e8e0-2d51-417e-b45b-7210e025fab0",
   "metadata": {},
   "outputs": [
    {
     "name": "stdin",
     "output_type": "stream",
     "text": [
      "Enter the number 10\n"
     ]
    },
    {
     "name": "stdout",
     "output_type": "stream",
     "text": [
      "55\n"
     ]
    }
   ],
   "source": [
    "n = int(input(\"Enter the number\"))\n",
    "sum=0\n",
    "for i in range(1,n+1):\n",
    "    sum=sum+i\n",
    "print(sum)"
   ]
  },
  {
   "cell_type": "markdown",
   "id": "b83827f2-9c9a-4c81-b6a7-8947816c6223",
   "metadata": {},
   "source": [
    "Write a program that can find the factorial of a given number provided by the user."
   ]
  },
  {
   "cell_type": "code",
   "execution_count": 36,
   "id": "a9d67a55-9805-4dd1-bffb-5011607da7e3",
   "metadata": {},
   "outputs": [
    {
     "name": "stdin",
     "output_type": "stream",
     "text": [
      "Enter the number 5\n"
     ]
    },
    {
     "name": "stdout",
     "output_type": "stream",
     "text": [
      "120\n"
     ]
    }
   ],
   "source": [
    "n = int(input(\"Enter the number\"))\n",
    "fact=1\n",
    "if n<0:\n",
    "    print(\"Factorial of negative number is not possible\")\n",
    "elif n==0:\n",
    "    print(\"Factorial is 1\")\n",
    "for i in range(1,n+1):\n",
    "    fact=fact*i\n",
    "print(fact)"
   ]
  },
  {
   "cell_type": "markdown",
   "id": "91a2cfe4-9a37-4e99-baf4-f79936f56f6f",
   "metadata": {},
   "source": [
    "print following pattern\n",
    "1\n",
    "2 2\n",
    "3 3 3\n",
    "4 4 4 4\n",
    "5 5 5 5 5"
   ]
  },
  {
   "cell_type": "code",
   "execution_count": 43,
   "id": "bffa5e4a-7724-4eb3-845a-1a34d1dd80c4",
   "metadata": {},
   "outputs": [
    {
     "name": "stdout",
     "output_type": "stream",
     "text": [
      "1 \n",
      "\n",
      "2 2 \n",
      "\n",
      "3 3 3 \n",
      "\n",
      "4 4 4 4 \n",
      "\n",
      "5 5 5 5 5 \n",
      "\n"
     ]
    }
   ],
   "source": [
    "for i in range(1,6):\n",
    "    for j in range(1,i+1):\n",
    "        print(i, end=\" \")\n",
    "    print(\"\\n\")"
   ]
  },
  {
   "cell_type": "markdown",
   "id": "4419b7ff-5be8-49f3-a51a-9e72b5d3ce78",
   "metadata": {},
   "source": [
    "Print First 10 natural numbers using while loop"
   ]
  },
  {
   "cell_type": "code",
   "execution_count": 50,
   "id": "97848190-a2a1-484e-91cb-bfdb2fcf759c",
   "metadata": {},
   "outputs": [
    {
     "name": "stdout",
     "output_type": "stream",
     "text": [
      "1\n",
      "2\n",
      "3\n",
      "4\n",
      "5\n",
      "6\n",
      "7\n",
      "8\n",
      "9\n",
      "10\n",
      "\n",
      "\n"
     ]
    }
   ],
   "source": [
    "while i<10:\n",
    "    for i in range(1,11):\n",
    "        print(i)\n",
    "    print(\"\\n\")"
   ]
  },
  {
   "cell_type": "markdown",
   "id": "6b006fb0-9288-4e58-a462-0b13ad0c4c28",
   "metadata": {},
   "source": [
    "Print the following pattern\n",
    "1\n",
    "1 2\n",
    "1 2 3\n",
    "1 2 3 4\n",
    "1 2 3 4 5"
   ]
  },
  {
   "cell_type": "code",
   "execution_count": 54,
   "id": "546aa1e4-9e38-43ff-b68f-e4c7fc1aaff6",
   "metadata": {},
   "outputs": [
    {
     "name": "stdout",
     "output_type": "stream",
     "text": [
      "\n",
      "\n",
      "1 \n",
      "\n",
      "1 2 \n",
      "\n",
      "1 2 3 \n",
      "\n",
      "1 2 3 4 \n",
      "\n",
      "1 2 3 4 5 \n",
      "\n"
     ]
    }
   ],
   "source": [
    "for i in range(1,7):\n",
    "    for j in range(1,i):\n",
    "        print(j, end=\" \")\n",
    "    print(\"\\n\")\n",
    "        "
   ]
  },
  {
   "cell_type": "markdown",
   "id": "32f7c353-1ea9-4bfb-9497-db63d6109d65",
   "metadata": {},
   "source": [
    "print the following pattern\n",
    "1\n",
    "2 3\n",
    "4 5 6\n",
    "7 8 9 10\n",
    "11 12 13 14 15"
   ]
  },
  {
   "cell_type": "code",
   "execution_count": 58,
   "id": "72bd2989-5595-4afc-9639-6b830460c0f6",
   "metadata": {},
   "outputs": [
    {
     "name": "stdout",
     "output_type": "stream",
     "text": [
      "1 \n",
      "\n",
      "2 3 \n",
      "\n",
      "4 5 6 \n",
      "\n",
      "7 8 9 10 \n",
      "\n",
      "11 12 13 14 15 \n",
      "\n",
      "16 17 18 19 20 21 \n",
      "\n"
     ]
    }
   ],
   "source": [
    "num=1\n",
    "for i in range(1,7):\n",
    "    for j in range(1, i+1):\n",
    "        print(num, end=\" \")\n",
    "        num=num+1\n",
    "    print(\"\\n\")"
   ]
  },
  {
   "cell_type": "markdown",
   "id": "661eea26-9c67-41fa-8af1-597de8ee2d57",
   "metadata": {},
   "source": [
    "Display numbers from a list using loop.\n",
    "Write a program to display only those numbers from a list that satisfy the following conditions\n",
    "The number must be divisible by five\n",
    "If the number is greater than 150, then skip it and move to the next number\n",
    "If the number is greater than 500, then stop the loop"
   ]
  },
  {
   "cell_type": "code",
   "execution_count": 1,
   "id": "527332a2-dd0c-489b-a8c6-1c7082694ad4",
   "metadata": {},
   "outputs": [
    {
     "name": "stdout",
     "output_type": "stream",
     "text": [
      "5 10 15 20 25 30 35 40 45 50 55 60 65 70 75 80 85 90 95 100 105 110 115 120 125 130 135 140 145 155 160 165 170 175 180 185 190 195 200 205 210 215 220 225 230 235 240 245 250 255 260 265 270 275 280 285 290 295 300 305 310 315 320 325 330 335 340 345 350 355 360 365 370 375 380 385 390 395 400 405 410 415 420 425 430 435 440 445 450 455 460 465 470 475 480 485 490 495 "
     ]
    }
   ],
   "source": [
    "for i in range(1, 500):\n",
    "        if(i%5==0 and i!=150):\n",
    "            print(i, end=\" \")"
   ]
  },
  {
   "cell_type": "code",
   "execution_count": 71,
   "id": "e93754df-52fe-4db5-8546-d8e6f9323f9d",
   "metadata": {},
   "outputs": [
    {
     "name": "stdout",
     "output_type": "stream",
     "text": [
      "75\n",
      "150\n",
      "145\n",
      "\n",
      "\n"
     ]
    }
   ],
   "source": [
    "num = [12, 75, 150, 180, 145, 525, 50]\n",
    "for i in num:\n",
    "    if i>500:\n",
    "        break\n",
    "    if(i%5==0 and i<=150):\n",
    "        print(i)\n",
    "print(\"\\n\")"
   ]
  },
  {
   "cell_type": "markdown",
   "id": "74112d11-6ad2-4a60-a753-afc2f5a4ef0f",
   "metadata": {},
   "source": [
    "Count the total number of digits in a number Write a program to count the total number of digitsin a number using a while loop.\n",
    "For example, the number is 75869, so the output should be 5."
   ]
  },
  {
   "cell_type": "code",
   "execution_count": 3,
   "id": "8ff57177-3b4e-40be-831e-05ff433f15f6",
   "metadata": {},
   "outputs": [
    {
     "name": "stdin",
     "output_type": "stream",
     "text": [
      "Enter the number 45678\n"
     ]
    },
    {
     "data": {
      "text/plain": [
       "5"
      ]
     },
     "execution_count": 3,
     "metadata": {},
     "output_type": "execute_result"
    }
   ],
   "source": [
    "n = int(input(\"Enter the number\"))\n",
    "count = len(str(n))\n",
    "count"
   ]
  },
  {
   "cell_type": "markdown",
   "id": "d0b9306d-7964-460e-8004-11c9df2320db",
   "metadata": {},
   "source": [
    "Method 2 with while loop"
   ]
  },
  {
   "cell_type": "code",
   "execution_count": 10,
   "id": "90b3107d-d72a-413a-ae42-eadbd7435972",
   "metadata": {},
   "outputs": [
    {
     "name": "stdin",
     "output_type": "stream",
     "text": [
      "Enter the number 45678\n"
     ]
    },
    {
     "name": "stdout",
     "output_type": "stream",
     "text": [
      "5\n"
     ]
    }
   ],
   "source": [
    "n = input(\"Enter the number\")\n",
    "count=0\n",
    "n = list(n)\n",
    "for i in n:\n",
    "    count=count+1\n",
    "print(count)"
   ]
  },
  {
   "cell_type": "markdown",
   "id": "d38f17a1-3633-472f-91f6-a1ca8693216d",
   "metadata": {},
   "source": [
    "Print the following pattern Write a program to use for loop to print the following reverse number pattern\n",
    "5 4 3 2 1\n",
    "5 4 3 2\n",
    "5 4 3\n",
    "5 4\n",
    "5"
   ]
  },
  {
   "cell_type": "code",
   "execution_count": 40,
   "id": "b6343800-da40-44e1-a2bf-239c03aae36f",
   "metadata": {},
   "outputs": [
    {
     "name": "stdout",
     "output_type": "stream",
     "text": [
      "6 5 4 3 2 1 \n",
      "\n",
      "5 4 3 2 1 \n",
      "\n",
      "4 3 2 1 \n",
      "\n",
      "3 2 1 \n",
      "\n",
      "2 1 \n",
      "\n",
      "1 \n",
      "\n"
     ]
    }
   ],
   "source": [
    "n = 6\n",
    "for i in range(n, 0, -1):\n",
    "    for j in range(i, 0, -1):\n",
    "        print(j, end=\" \")\n",
    "        #n=n-1\n",
    "    print(\"\\n\")"
   ]
  },
  {
   "cell_type": "markdown",
   "id": "c51217df-849d-4c70-9d8f-52f3cda12629",
   "metadata": {},
   "source": [
    "Print list in reverse order using a loop"
   ]
  },
  {
   "cell_type": "code",
   "execution_count": 8,
   "id": "d1c56e20-12b0-4dbb-9d36-52caafe63793",
   "metadata": {},
   "outputs": [
    {
     "name": "stdout",
     "output_type": "stream",
     "text": [
      "5 4 3 2 1 "
     ]
    }
   ],
   "source": [
    "a = [1,2,3,4,5]\n",
    "for i in a[::-1]:\n",
    "    print(i, end=\" \")"
   ]
  },
  {
   "cell_type": "markdown",
   "id": "6109ca28-5a6e-41fc-a7d0-36caeeb2a5c7",
   "metadata": {},
   "source": [
    "Display numbers from -10 to -1 using for loop"
   ]
  },
  {
   "cell_type": "code",
   "execution_count": 12,
   "id": "20d6dc0b-b645-4c8b-b8fe-894b966440c8",
   "metadata": {},
   "outputs": [
    {
     "name": "stdout",
     "output_type": "stream",
     "text": [
      "-10 -9 -8 -7 -6 -5 -4 -3 -2 -1 "
     ]
    }
   ],
   "source": [
    "for i in range(-10,0):\n",
    "    print(i, end=\" \")"
   ]
  },
  {
   "cell_type": "markdown",
   "id": "8cd94d82-676c-49e4-9d7d-a883bdc14861",
   "metadata": {},
   "source": [
    "Display Fibonacci series up to 10 terms The Fibonacci Sequence is a series of numbers. Thenext number is found by adding up the two numbers before it. The first two numbers are 0 and 1.\n",
    "For example, 0, 1, 1, 2, 3, 5, 8, 13, 21. The next number in this series above is 13+21 = 34."
   ]
  },
  {
   "cell_type": "code",
   "execution_count": 23,
   "id": "318933f8-fcbb-42a8-b665-7d7e23230f15",
   "metadata": {},
   "outputs": [
    {
     "name": "stdin",
     "output_type": "stream",
     "text": [
      "Enter the number 10\n"
     ]
    },
    {
     "name": "stdout",
     "output_type": "stream",
     "text": [
      "0 1 1 2 3 5 8 13 21 34 55 89 "
     ]
    }
   ],
   "source": [
    "n = int(input(\"Enter the number\"))\n",
    "num1 =0\n",
    "num2=1\n",
    "print(num1, end= \" \")\n",
    "print(num2, end= \" \")\n",
    "for i in range(n):\n",
    "    num3=num1+num2\n",
    "    num1=num2\n",
    "    num2=num3\n",
    "    print(num3, end= \" \")\n",
    "\n"
   ]
  },
  {
   "cell_type": "markdown",
   "id": "1ae542af-013e-4e50-ab49-c303ee1dafd1",
   "metadata": {},
   "source": [
    "Use a loop to display elements from a given list present at odd index positions\n",
    "my_list = [10, 20, 30, 40, 50, 60, 70, 80, 90, 100]"
   ]
  },
  {
   "cell_type": "code",
   "execution_count": 25,
   "id": "e02adc84-0cd2-49b8-b8be-087bee13a525",
   "metadata": {},
   "outputs": [
    {
     "data": {
      "text/plain": [
       "[20, 40, 60, 80, 100]"
      ]
     },
     "execution_count": 25,
     "metadata": {},
     "output_type": "execute_result"
    }
   ],
   "source": [
    "my_list = [10, 20, 30, 40, 50, 60, 70, 80, 90, 100]\n",
    "my_list[1::2]\n",
    "    "
   ]
  },
  {
   "cell_type": "markdown",
   "id": "f13f8378-e6f7-4791-8a6b-148fe0d33989",
   "metadata": {},
   "source": [
    "Find the sum of the series upto n terms Write a program to calculate the sum of series up to nterm. For example, if n =5 the series will become 2 + 22 + 222 + 2222 + 22222 = 24690"
   ]
  },
  {
   "cell_type": "code",
   "execution_count": 38,
   "id": "ca17480d-af49-4df6-81a7-f4b8aad61878",
   "metadata": {},
   "outputs": [
    {
     "name": "stdout",
     "output_type": "stream",
     "text": [
      "24690\n"
     ]
    }
   ],
   "source": [
    "n=5\n",
    "x=2\n",
    "result=0\n",
    "for i in range(1, n+1):\n",
    "    y=str(x)*i\n",
    "    z=int(\"\".join(y))\n",
    "    result=result+z\n",
    "print(result)"
   ]
  },
  {
   "cell_type": "markdown",
   "id": "c7874563-3768-4cb5-9cf0-e683b5130ae5",
   "metadata": {},
   "source": [
    "Print downward Half-Pyramid Pattern with Star"
   ]
  },
  {
   "cell_type": "code",
   "execution_count": 44,
   "id": "c75f0f82-f750-4614-927e-7ca545c5f039",
   "metadata": {},
   "outputs": [
    {
     "name": "stdin",
     "output_type": "stream",
     "text": [
      "Enter the number 5\n"
     ]
    },
    {
     "name": "stdout",
     "output_type": "stream",
     "text": [
      "*****\n",
      "****\n",
      "***\n",
      "**\n",
      "*\n"
     ]
    }
   ],
   "source": [
    "n = int(input(\"Enter the number\"))\n",
    "for i in range(n, 0, -1):\n",
    "    print(\"*\"*i)"
   ]
  },
  {
   "cell_type": "code",
   "execution_count": 46,
   "id": "4fde9fec-2566-4e66-816e-174ef9fff5d7",
   "metadata": {},
   "outputs": [
    {
     "name": "stdin",
     "output_type": "stream",
     "text": [
      "Enter the number 5\n"
     ]
    },
    {
     "name": "stdout",
     "output_type": "stream",
     "text": [
      "*\n",
      "**\n",
      "***\n",
      "****\n",
      "*****\n",
      "*****\n",
      "****\n",
      "***\n",
      "**\n",
      "*\n"
     ]
    }
   ],
   "source": [
    "n = int(input(\"Enter the number\"))\n",
    "\n",
    "for i in range(1, n+1):\n",
    "    print(\"*\"*i)\n",
    "for i in range(n, 0, -1):\n",
    "    print(\"*\"*i)"
   ]
  },
  {
   "cell_type": "markdown",
   "id": "9c4c7037-d2b3-4e30-ad8d-47043bb1ad9a",
   "metadata": {},
   "source": [
    "Write a program that keeps on accepting a number from the user until the user enters Zero.Display the sum and average of all the numbers."
   ]
  },
  {
   "cell_type": "code",
   "execution_count": 61,
   "id": "0e7a7c83-d638-4d1a-b06b-d99f493485f5",
   "metadata": {},
   "outputs": [
    {
     "name": "stdin",
     "output_type": "stream",
     "text": [
      "Enter the number 6\n",
      "Enter the number 7\n",
      "Enter the number 2\n",
      "Enter the number 3\n",
      "Enter the number 0\n"
     ]
    },
    {
     "name": "stdout",
     "output_type": "stream",
     "text": [
      "18\n",
      "4.5\n"
     ]
    }
   ],
   "source": [
    "n=int(input(\"Enter the number\"))\n",
    "count=0\n",
    "sum=0\n",
    "avg=0\n",
    "while(n!=0):\n",
    "    sum=sum+n\n",
    "    count=count+1\n",
    "    avg=sum/count\n",
    "    n=int(input(\"Enter the number\"))\n",
    "\n",
    "print(sum)\n",
    "print(avg)"
   ]
  },
  {
   "cell_type": "markdown",
   "id": "e32348e3-8ef2-4717-a53b-89649e46fcd4",
   "metadata": {},
   "source": [
    "Write a program to print the first 25 odd numbers"
   ]
  },
  {
   "cell_type": "code",
   "execution_count": 66,
   "id": "7379c758-e804-43b1-a7e7-dd51847cd0e6",
   "metadata": {},
   "outputs": [
    {
     "name": "stdout",
     "output_type": "stream",
     "text": [
      "[1, 3, 5, 7, 9, 11, 13, 15, 17, 19, 21, 23, 25, 27, 29, 31, 33, 35, 37, 39, 41, 43, 45, 47, 49]\n"
     ]
    }
   ],
   "source": [
    "flag=0\n",
    "i=1\n",
    "odd_list=[]\n",
    "\n",
    "while True:\n",
    "    if i%2!=0:\n",
    "        odd_list.append(i)\n",
    "        flag=flag+1\n",
    "\n",
    "    if flag==25:\n",
    "        break\n",
    "    i=i+1\n",
    "print(odd_list)"
   ]
  },
  {
   "cell_type": "markdown",
   "id": "3370afaa-459e-4d51-b8bb-07b4030557a1",
   "metadata": {},
   "source": [
    "Write a function called exponent(base, exp) that returns an int value of base raises to the powerof exp. Note here exp is a non-negative integer, and the base is an integer."
   ]
  },
  {
   "cell_type": "code",
   "execution_count": 69,
   "id": "d62228f9-2b17-4313-8dc2-a0cfe37d7a03",
   "metadata": {},
   "outputs": [
    {
     "name": "stdout",
     "output_type": "stream",
     "text": [
      "32\n"
     ]
    }
   ],
   "source": [
    "def exponent(base, exp):\n",
    "    print(pow(base,exp))\n",
    "exponent(2,5)\n",
    "    "
   ]
  },
  {
   "cell_type": "markdown",
   "id": "7fa4469c-85ba-4dcb-9123-e2331567a64f",
   "metadata": {},
   "source": [
    "Write a program to create a function that takes two arguments,name and age, and print their value."
   ]
  },
  {
   "cell_type": "code",
   "execution_count": 74,
   "id": "d328efae-f49f-4916-860b-76eca69b4fe8",
   "metadata": {},
   "outputs": [
    {
     "name": "stdout",
     "output_type": "stream",
     "text": [
      "Name of the person is Ankita and age is 5\n"
     ]
    }
   ],
   "source": [
    "def desc(name, age):\n",
    "    print(f\"Name of the person is {name} and age is {age}\")\n",
    "desc(\"Ankita\", 5)"
   ]
  },
  {
   "cell_type": "markdown",
   "id": "052f1399-0f2c-4f56-9bca-039909ea1dab",
   "metadata": {},
   "source": [
    "Check if the first and last number of a list is the same Write a function to return True if the firstand last number of a given list is same. If numbers are different then return False."
   ]
  },
  {
   "cell_type": "code",
   "execution_count": 12,
   "id": "a0a6c9fb-6f5a-4d6d-a43b-176546f927f0",
   "metadata": {},
   "outputs": [
    {
     "name": "stdout",
     "output_type": "stream",
     "text": [
      "True\n"
     ]
    }
   ],
   "source": [
    "#n=[1,2,3,4,5,1]\n",
    "\n",
    "def xyz(list):\n",
    "    num1=list[0]\n",
    "    num2=list[-1]\n",
    "    if num1==num2:\n",
    "        return True\n",
    "    else:\n",
    "        return False\n",
    "\n",
    "print(xyz([1,2,3,4,1]))\n",
    "    \n"
   ]
  },
  {
   "cell_type": "markdown",
   "id": "56dd8536-ebaa-42f9-b26e-e2b56b62f0c4",
   "metadata": {},
   "source": [
    "Calculate the multiplication and sum of two numbers\n",
    "Given two integer numbers return their product only if the product is equal to or lower than 1000, else returntheir sum."
   ]
  },
  {
   "cell_type": "code",
   "execution_count": 17,
   "id": "0756a5c6-0f57-45d2-8f94-b156c08b07d4",
   "metadata": {},
   "outputs": [
    {
     "name": "stdout",
     "output_type": "stream",
     "text": [
      "200\n"
     ]
    }
   ],
   "source": [
    "def sumprod(a,b):\n",
    "    sum=a+b\n",
    "    prod=a*b\n",
    "    if(prod<=1000):\n",
    "        return prod\n",
    "    else:\n",
    "        return sum\n",
    "print(sumprod(10,20))\n"
   ]
  },
  {
   "cell_type": "markdown",
   "id": "03fc9db0-1deb-4db8-92ff-f55bd4f54801",
   "metadata": {},
   "source": [
    "Create a function with variable length of arguments\n",
    "Write a program to create function func1() to accept a variable length of arguments and print their value.\n",
    "Note: Create a function in such a way that we can pass any number of arguments to this function, and thefunction should process them and display each argument’s value."
   ]
  },
  {
   "cell_type": "code",
   "execution_count": 24,
   "id": "34b75cf5-d036-454d-86ce-326605672009",
   "metadata": {},
   "outputs": [
    {
     "name": "stdout",
     "output_type": "stream",
     "text": [
      "(1, 3, 4)\n"
     ]
    }
   ],
   "source": [
    "def values(*num):\n",
    "    return num\n",
    "print(values(1,3,4))"
   ]
  },
  {
   "cell_type": "markdown",
   "id": "c60f54e1-950f-4ed3-bf9e-946b9b6338d7",
   "metadata": {},
   "source": [
    "Return multiple values from a function\n",
    "Write a program to create function calculation() such that it can accept two variables and calculate addition and subtraction. Also, it must return both addition and subtraction in a single return call."
   ]
  },
  {
   "cell_type": "code",
   "execution_count": 27,
   "id": "cbff6016-9f00-4ff5-ab53-b220c3a028df",
   "metadata": {},
   "outputs": [
    {
     "name": "stdout",
     "output_type": "stream",
     "text": [
      "(11, -1)\n"
     ]
    }
   ],
   "source": [
    "def calculation(a,b):\n",
    "    add=a+b\n",
    "    sub=a-b\n",
    "    return add,sub\n",
    "print(calculation(5,6))\n",
    "    "
   ]
  },
  {
   "cell_type": "markdown",
   "id": "ed52e768-ac8e-46c7-8e58-272ec6343541",
   "metadata": {},
   "source": [
    "Create a function with a default argument Write a program to create a functionshow_employee() using the following conditions.\n",
    "It should accept the employee’s name and salary and display both. If the salary is missing in the function callthen assign default value 9000 to salary"
   ]
  },
  {
   "cell_type": "code",
   "execution_count": 52,
   "id": "2c88274e-bc1d-452e-9e17-713c186b0d00",
   "metadata": {},
   "outputs": [
    {
     "name": "stdout",
     "output_type": "stream",
     "text": [
      "Name of the employee is Ankita and salary is 7000\n",
      "Name of the employee is Ankita and salary is 9000\n"
     ]
    }
   ],
   "source": [
    "def show_emp(name, sal=9000):\n",
    "    print(\"Name of the employee is {} and salary is {}\".format(name, sal))\n",
    "\n",
    "show_emp('Ankita', 7000)\n",
    "show_emp('Ankita')\n",
    "\n"
   ]
  },
  {
   "cell_type": "markdown",
   "id": "415438e2-d35e-4e56-af5d-e8c4a0df38d7",
   "metadata": {},
   "source": [
    "Create an inner function to calculate the addition in the following way\n",
    "Create an outer function that will accept two parameters, a and b\n",
    "Create an inner function inside an outer function that will calculate the addition of a and b\n",
    "At last, an outer function will add 5 into addition and return it"
   ]
  },
  {
   "cell_type": "code",
   "execution_count": 59,
   "id": "1aa4a8bd-199b-49de-888d-37309a0528ca",
   "metadata": {},
   "outputs": [
    {
     "name": "stdout",
     "output_type": "stream",
     "text": [
      "35\n"
     ]
    }
   ],
   "source": [
    "def outer(a,b):\n",
    "    def inner(a,b):\n",
    "        return a+b\n",
    "    add = inner(a,b)\n",
    "    return add+5\n",
    "print(outer(20,10))"
   ]
  },
  {
   "cell_type": "markdown",
   "id": "61b1515e-54c9-4f50-876c-96fe656770fa",
   "metadata": {},
   "source": [
    "Create a recursive function\n",
    "A] Write a program to create a recursive function to calculate the sum of numbers from 0 to 10.\n",
    "A recursive function is a function that calls itself again and again"
   ]
  },
  {
   "cell_type": "code",
   "execution_count": 64,
   "id": "3f1e2740-4da6-44f9-8d0b-981c531e7377",
   "metadata": {},
   "outputs": [
    {
     "name": "stdout",
     "output_type": "stream",
     "text": [
      "15\n"
     ]
    }
   ],
   "source": [
    "def add(n):\n",
    "    if n==0:\n",
    "        return 0\n",
    "    else:\n",
    "        return n+add(n-1)\n",
    "print(add(5))"
   ]
  },
  {
   "cell_type": "markdown",
   "id": "5ee57329-6b14-4d75-ba3b-131b416f0990",
   "metadata": {},
   "source": [
    "Write a program to create a recursive function to calculate the factorial of numbers from 0 to 10.\n",
    "A recursive function is a function that calls itself again and again."
   ]
  },
  {
   "cell_type": "code",
   "execution_count": 69,
   "id": "3997900b-bb11-4939-bfa3-4e8d7c4c187b",
   "metadata": {},
   "outputs": [
    {
     "name": "stdout",
     "output_type": "stream",
     "text": [
      "24\n"
     ]
    }
   ],
   "source": [
    "def fact(n):\n",
    "    if n==1:\n",
    "        return 1\n",
    "    else:\n",
    "        return n*fact(n-1)\n",
    "print(fact(4))"
   ]
  },
  {
   "cell_type": "markdown",
   "id": "b6bae45d-a9dd-4c91-a2f2-b8d3e0f6e99d",
   "metadata": {},
   "source": [
    "Generate a Python list of all the even numbers between 4 to 30"
   ]
  },
  {
   "cell_type": "code",
   "execution_count": 83,
   "id": "c49e962b-6e07-4050-91cb-4f9f1a505d96",
   "metadata": {},
   "outputs": [
    {
     "name": "stdout",
     "output_type": "stream",
     "text": [
      "[4, 6, 8, 10, 12, 14, 16, 18, 20, 22, 24, 26, 28, 30]\n"
     ]
    }
   ],
   "source": [
    "list=[]\n",
    "for i in range(4,31):\n",
    "    if i%2==0:\n",
    "        list.append(i)\n",
    "print(list)"
   ]
  },
  {
   "cell_type": "markdown",
   "id": "fff7d63a-b730-48c2-9f78-3573660b1a70",
   "metadata": {},
   "source": [
    "Find the largest item from a given list"
   ]
  },
  {
   "cell_type": "code",
   "execution_count": 92,
   "id": "9932c31d-7c47-4913-be61-83032d42c4c9",
   "metadata": {},
   "outputs": [
    {
     "name": "stdout",
     "output_type": "stream",
     "text": [
      "8\n"
     ]
    }
   ],
   "source": [
    "x = [4,5,6,2,7,8]\n",
    "largest=0\n",
    "\n",
    "for i in range(1, len(x)):\n",
    "    if(x[i]>largest):\n",
    "        largest=x[i]\n",
    "print(largest)"
   ]
  }
 ],
 "metadata": {
  "kernelspec": {
   "display_name": "Python 3 (ipykernel)",
   "language": "python",
   "name": "python3"
  },
  "language_info": {
   "codemirror_mode": {
    "name": "ipython",
    "version": 3
   },
   "file_extension": ".py",
   "mimetype": "text/x-python",
   "name": "python",
   "nbconvert_exporter": "python",
   "pygments_lexer": "ipython3",
   "version": "3.12.7"
  }
 },
 "nbformat": 4,
 "nbformat_minor": 5
}
