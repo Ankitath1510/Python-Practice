{
 "cells": [
  {
   "cell_type": "markdown",
   "id": "ca0cf988-a8ba-4542-941e-d4d5b114182d",
   "metadata": {},
   "source": [
    "Return the count of a given substring from a string Write a program to find how many timessubstring “radha” appears in the given string\n",
    "\"radha is most beutiful,radha is queen of vraj\""
   ]
  },
  {
   "cell_type": "code",
   "execution_count": 1,
   "id": "acac863a-0c0a-4782-a59a-f27a0d7eafee",
   "metadata": {},
   "outputs": [
    {
     "name": "stdout",
     "output_type": "stream",
     "text": [
      "2\n"
     ]
    }
   ],
   "source": [
    "str = \"radha is most beutiful,radha is queen of vraj\"\n",
    "substr = \"radha\"\n",
    "print(str.count(substr))"
   ]
  },
  {
   "cell_type": "markdown",
   "id": "2491c52b-b335-4196-bac0-3313308ce225",
   "metadata": {},
   "source": [
    "Print characters from a string that are present at an even index number Write a program toaccept a string from the user and display characters that are present at an even index number.\n",
    "For example, str = \"pynative\" so you should display ‘p’, ‘n’, ‘t’, ‘v’."
   ]
  },
  {
   "cell_type": "code",
   "execution_count": 3,
   "id": "0cb09aba-f921-4693-9a1c-603201415591",
   "metadata": {},
   "outputs": [
    {
     "name": "stdin",
     "output_type": "stream",
     "text": [
      "Enter the string ankita\n"
     ]
    },
    {
     "name": "stdout",
     "output_type": "stream",
     "text": [
      "akt\n"
     ]
    }
   ],
   "source": [
    "str = input(\"Enter the string\")\n",
    "print(str[0::2])"
   ]
  },
  {
   "cell_type": "markdown",
   "id": "39f6061f-fed3-4846-9af0-8e5d6f7556e0",
   "metadata": {},
   "source": [
    "Remove first n characters from a string Write a program to remove characters from a string starting from zero up to n and return a new string.\n",
    "For example:\n",
    "remove_chars(\"pynative\", 4) so output must be tive. Here we need to remove first four characters from astring. remove_chars(\"pynative\", 2) so output must be native. Here we need to remove first two characters from a string. Note: n must be less than the length of the string."
   ]
  },
  {
   "cell_type": "code",
   "execution_count": 5,
   "id": "e276ee76-b1db-496c-80e1-8310b257c6e2",
   "metadata": {},
   "outputs": [
    {
     "name": "stdin",
     "output_type": "stream",
     "text": [
      "Enter the string ankita\n",
      "Enter the number of characters that you would like to remove 2\n"
     ]
    },
    {
     "name": "stdout",
     "output_type": "stream",
     "text": [
      "kita\n"
     ]
    }
   ],
   "source": [
    "str = input(\"Enter the string\")\n",
    "n = int(input(\"Enter the number of characters that you would like to remove\"))\n",
    "if n>len(str):\n",
    "    n = int(input(\"Enter the number which is less than equal to the length of the string\"))\n",
    "print(str[n::])"
   ]
  },
  {
   "cell_type": "markdown",
   "id": "b8670672-2710-4dc6-8fbe-b8841c7f3c8b",
   "metadata": {},
   "source": [
    "Create a string made of the first, middle and last character\n",
    "Write a program to create a new string made of an input string’s first, middle, and last character."
   ]
  },
  {
   "cell_type": "code",
   "execution_count": 7,
   "id": "fdad733c-8277-4b54-b235-0f066fe3c4cd",
   "metadata": {},
   "outputs": [
    {
     "name": "stdin",
     "output_type": "stream",
     "text": [
      "Enter the string ankita\n"
     ]
    },
    {
     "data": {
      "text/plain": [
       "'ank'"
      ]
     },
     "execution_count": 7,
     "metadata": {},
     "output_type": "execute_result"
    }
   ],
   "source": [
    "str = input(\"Enter the string\")\n",
    "chars = []\n",
    "for i in range(0,3):\n",
    "    chars.append(str[i])\n",
    "\"\".join(chars)"
   ]
  },
  {
   "cell_type": "markdown",
   "id": "f86c5cad-8c28-4360-a0ba-f6331860d7e5",
   "metadata": {},
   "source": [
    "Create a string made of the middle three characters.\n",
    "Write a program to create a new string made of the middle three characters of an input string.\n",
    "ex.JaSonAy-->Son\n",
    "JhonDipPeta -->Dip"
   ]
  },
  {
   "cell_type": "code",
   "execution_count": 16,
   "id": "d404ee1d-886c-403a-8df2-c3a6775e1b0c",
   "metadata": {},
   "outputs": [
    {
     "name": "stdin",
     "output_type": "stream",
     "text": [
      "Enter the string ankita\n"
     ]
    },
    {
     "name": "stdout",
     "output_type": "stream",
     "text": [
      "Values will be little skewed\n",
      "['k', 'i', 't']\n"
     ]
    }
   ],
   "source": [
    "str = input(\"Enter the string\")\n",
    "chars=[]\n",
    "if(len(str)%2==0):\n",
    "    print(\"Values will be little skewed\")\n",
    "start= int(abs((len(str)/2)-1))\n",
    "end = int(abs((len(str)/2)+1))\n",
    "for i in range(start, end+1):\n",
    "    chars.append(str[i])\n",
    "print(chars)"
   ]
  },
  {
   "cell_type": "markdown",
   "id": "c4c71930-79db-4106-a15b-ee3ea5ea7f7d",
   "metadata": {},
   "source": [
    "Count the frequency of a particular character in a provided string. Eg 'hello how are you' is thestring, the frequency of h in this string is 2."
   ]
  },
  {
   "cell_type": "code",
   "execution_count": 22,
   "id": "d343d56f-eefc-4ca4-945d-30494f11b666",
   "metadata": {},
   "outputs": [
    {
     "name": "stdin",
     "output_type": "stream",
     "text": [
      "Enter the string ankita\n",
      "Enter the character whose frequency you want to find a\n"
     ]
    },
    {
     "name": "stdout",
     "output_type": "stream",
     "text": [
      "2\n"
     ]
    }
   ],
   "source": [
    "str = input(\"Enter the string\")\n",
    "ch = input(\"Enter the character whose frequency you want to find\")\n",
    "count=0\n",
    "for i in str:\n",
    "   if i in ch:\n",
    "       count=count+1\n",
    "print(count)\n",
    "##the program is case sensitive"
   ]
  },
  {
   "cell_type": "markdown",
   "id": "35a4e5df-2206-491e-8dc7-e7d4186fa7c4",
   "metadata": {},
   "source": [
    "Find the index position of a particular character in another string."
   ]
  },
  {
   "cell_type": "code",
   "execution_count": 23,
   "id": "fd372126-7f17-4c8e-98dd-3fa849995fa1",
   "metadata": {},
   "outputs": [
    {
     "name": "stdin",
     "output_type": "stream",
     "text": [
      "Enter the string Ankita\n",
      "Enter the character n\n"
     ]
    },
    {
     "name": "stdout",
     "output_type": "stream",
     "text": [
      "1\n"
     ]
    }
   ],
   "source": [
    "str = input(\"Enter the string\")\n",
    "ch = input(\"Enter the character\")\n",
    "for i in range(0, len(str)):\n",
    "    if ch==str[i]:\n",
    "        print(i)\n",
    "    "
   ]
  },
  {
   "cell_type": "markdown",
   "id": "5b92b758-210a-45ce-b2c1-f6c45cc05043",
   "metadata": {},
   "source": [
    "Write a program which can remove a particular character from a string."
   ]
  },
  {
   "cell_type": "code",
   "execution_count": 24,
   "id": "2f0574e0-9529-4e53-a335-a4bbf86bae67",
   "metadata": {},
   "outputs": [
    {
     "name": "stdin",
     "output_type": "stream",
     "text": [
      "Enter the string Ankita\n",
      "Enter the character you want to remove nk\n"
     ]
    },
    {
     "name": "stdout",
     "output_type": "stream",
     "text": [
      "Aita\n"
     ]
    }
   ],
   "source": [
    "str = input(\"Enter the string\")\n",
    "ch = input(\"Enter the character you want to remove\")\n",
    "print(str.replace(ch,\"\"))"
   ]
  },
  {
   "cell_type": "markdown",
   "id": "46cba470-ee55-48b2-9e80-0d2213c3a722",
   "metadata": {},
   "source": [
    "Append new string in the middle of a given string\n",
    "Given two strings, s1 and s2. Write a program to create a new string s3 by appending s2 in the middle of s1.\n",
    "s1 = \"Ault\"\n",
    "s2 = \"Kelly\"\n",
    "expected-->AuKellylt"
   ]
  },
  {
   "cell_type": "code",
   "execution_count": 34,
   "id": "d4a8e3a4-c0e6-49ce-8453-ec532eeed8e8",
   "metadata": {},
   "outputs": [
    {
     "name": "stdin",
     "output_type": "stream",
     "text": [
      "Enter the string bored\n",
      "Enter the string find\n"
     ]
    },
    {
     "name": "stdout",
     "output_type": "stream",
     "text": [
      "Exact middle is not possible and solution will be skewed\n",
      "bofindred\n"
     ]
    }
   ],
   "source": [
    "s1=input(\"Enter the string\")\n",
    "s2=input(\"Enter the string\")\n",
    "if len(s1)%2==0:\n",
    "    middle=int(abs(len(s1)/2))\n",
    "else:\n",
    "    print(\"Exact middle is not possible and solution will be skewed\")\n",
    "\n",
    "print(s1[:middle]+ s2+ s1[middle:])\n"
   ]
  },
  {
   "cell_type": "markdown",
   "id": "51e0e9d8-3366-4ea9-a80f-36552206338e",
   "metadata": {},
   "source": [
    "Create a new string made of the first, middle, and last characters of each input string\n",
    "Given two strings, s1 and s2, write a program to return a new string made of s1 and s2’s first, middle, and last characters.\n",
    "s1 = \"America\"\n",
    "s2 = \"Japan\"\n",
    "Expected output-->AJrpan"
   ]
  },
  {
   "cell_type": "code",
   "execution_count": 42,
   "id": "d842cceb-603e-407f-afaf-18913a942047",
   "metadata": {},
   "outputs": [
    {
     "name": "stdin",
     "output_type": "stream",
     "text": [
      "Enter the string America\n",
      "Enter the string Japan\n"
     ]
    },
    {
     "name": "stdout",
     "output_type": "stream",
     "text": [
      "AJrpan\n"
     ]
    }
   ],
   "source": [
    "s1=input(\"Enter the string\")\n",
    "s2=input(\"Enter the string\")\n",
    "first=s1[0]\n",
    "second=s2[0]\n",
    "middle = s1[int(abs(len(s1)/2))]\n",
    "print(first + second + middle + s2[2:])"
   ]
  },
  {
   "cell_type": "markdown",
   "id": "b7252f48-7da3-4a2e-8649-5a42c883040c",
   "metadata": {},
   "source": [
    "Arrange string characters such that lowercase letters should come first.\n",
    "Given string contains a combination of the lower and upper case letters. Write a program to arrange the characters of a string so that all lowercase letters should come first."
   ]
  },
  {
   "cell_type": "code",
   "execution_count": 48,
   "id": "bd5123be-a217-4596-baeb-f8950ff53500",
   "metadata": {},
   "outputs": [
    {
     "name": "stdin",
     "output_type": "stream",
     "text": [
      "Enter a string which is mix of lower and uppercase aabBEeDd\n"
     ]
    },
    {
     "name": "stdout",
     "output_type": "stream",
     "text": [
      "['a', 'a', 'b', 'e', 'd']\n",
      "['B', 'E', 'D']\n"
     ]
    },
    {
     "data": {
      "text/plain": [
       "'aabedBED'"
      ]
     },
     "execution_count": 48,
     "metadata": {},
     "output_type": "execute_result"
    }
   ],
   "source": [
    "str = input(\"Enter a string which is mix of lower and uppercase\")\n",
    "lower_index=[]\n",
    "upper_index=[]\n",
    "\n",
    "for i in str:\n",
    "    if i.islower()==True:\n",
    "        lower_index.append(i)\n",
    "       \n",
    "    elif i.isupper()==True:\n",
    "        upper_index.append(i)\n",
    "        \n",
    "print(lower_index)\n",
    "print(upper_index)\n",
    "\"\".join(lower_index + upper_index)"
   ]
  },
  {
   "cell_type": "markdown",
   "id": "d6dfe475-37fb-413e-909b-5c9915ba6524",
   "metadata": {},
   "source": [
    "Count all letters, digits, and special symbols from a given string\n",
    "given-->str1 = \"P@#yn26at^&i5ve\"\n",
    "expected-->Total counts of chars, digits, and symbols\n",
    "Chars = 8 Digits = 3 Symbol = 4"
   ]
  },
  {
   "cell_type": "code",
   "execution_count": 51,
   "id": "f3987522-b274-4831-bf16-4483d4a44b6c",
   "metadata": {},
   "outputs": [
    {
     "name": "stdout",
     "output_type": "stream",
     "text": [
      "char 8\n",
      "digits 3\n",
      "special character 4\n"
     ]
    }
   ],
   "source": [
    "str= \"P@#yn26at^&i5ve\"\n",
    "count_chars=0\n",
    "count_digit=0\n",
    "count_special=0\n",
    "\n",
    "for i in str:\n",
    "    if(i.isalpha()==True):\n",
    "        count_chars=count_chars+1\n",
    "    elif(i.isdigit()==True):\n",
    "        count_digit=count_digit+1\n",
    "    else:\n",
    "        count_special=count_special+1\n",
    "print(\"char\", count_chars)\n",
    "print(\"digits\", count_digit)\n",
    "print(\"special character\", count_special)\n",
    "    \n",
    "    "
   ]
  },
  {
   "cell_type": "markdown",
   "id": "320c7f32-effc-4366-948e-3323fce1b1cf",
   "metadata": {},
   "source": [
    "Create a mixed String using the following rules\n",
    "Given two strings, s1 and s2. Write a program to create a new string s3 made of the first char of s1, then thelast char of s2, Next, the second char of s1 and second last char of s2, and so on. Any leftover chars go atthe end of the result."
   ]
  },
  {
   "cell_type": "code",
   "execution_count": 55,
   "id": "7d979dce-4301-41d7-8f83-8b000ca3b1fe",
   "metadata": {},
   "outputs": [
    {
     "name": "stdin",
     "output_type": "stream",
     "text": [
      "Enter the string Ankita\n",
      "Enter the string Paris\n"
     ]
    },
    {
     "name": "stdout",
     "output_type": "stream",
     "text": [
      "AsniktaPr\n"
     ]
    }
   ],
   "source": [
    "s1=input(\"Enter the string\")\n",
    "s2=input(\"Enter the string\")\n",
    "mix=s1+s2\n",
    "s3=s1[0]+s2[-1]+s1[1]+s2[-2]\n",
    "for i in mix:\n",
    "    if i not in s3:\n",
    "        s3=s3+i\n",
    "print(s3)"
   ]
  },
  {
   "cell_type": "markdown",
   "id": "f8fb0d83-cdf3-4564-ba39-a0446d08eeeb",
   "metadata": {},
   "source": [
    "String characters balance Test\n",
    "Write a program to check if two strings are balanced. For example, strings s1 and s2 are balanced if all thecharacters in the s1 are present in s2. The character’s position doesn’t matter."
   ]
  },
  {
   "cell_type": "code",
   "execution_count": 60,
   "id": "e12d0c4c-e894-4a94-af81-dfdc3b228a68",
   "metadata": {},
   "outputs": [
    {
     "name": "stdin",
     "output_type": "stream",
     "text": [
      "Enter the string paris\n",
      "Enter the string europe\n"
     ]
    },
    {
     "name": "stdout",
     "output_type": "stream",
     "text": [
      "String is not balanced\n"
     ]
    }
   ],
   "source": [
    "s1=input(\"Enter the string\")\n",
    "s2=input(\"Enter the string\")\n",
    "count=0\n",
    "for i in s1:\n",
    "    if i not in s2:\n",
    "        count=count+1\n",
    "\n",
    "if(count>1):\n",
    "    print(\"String is not balanced\")\n",
    "else:\n",
    "    print(\"String is balanced\")\n"
   ]
  },
  {
   "cell_type": "markdown",
   "id": "67613839-2846-44bb-99bc-90c3342d39fe",
   "metadata": {},
   "source": [
    "Find all occurrences of a substring in a given string by ignoring the case Write a program to find all occurrences of “USA” in a given string ignoring the case.\n",
    "str1 = \"Welcome to USA. usa awesome, isn't it?\"\n",
    "expected ans --> USA:-->2"
   ]
  },
  {
   "cell_type": "code",
   "execution_count": 68,
   "id": "bed7b890-6e75-4e93-951c-218ae67b80c0",
   "metadata": {},
   "outputs": [
    {
     "name": "stdin",
     "output_type": "stream",
     "text": [
      "Enter the string Hey ankita, how are You\n",
      "Enter the substring you\n"
     ]
    },
    {
     "name": "stdout",
     "output_type": "stream",
     "text": [
      "1\n"
     ]
    }
   ],
   "source": [
    "str = input(\"Enter the string\")\n",
    "substr =input(\"Enter the substring\")\n",
    "str=str.lower()\n",
    "substr=substr.lower()\n",
    "\n",
    "print(str.count(substr))\n",
    "        "
   ]
  },
  {
   "cell_type": "markdown",
   "id": "89bbd72c-3fdb-4d7e-9046-f17e469e4257",
   "metadata": {},
   "source": [
    "Write a python program to convert a string to title case without using the title()"
   ]
  },
  {
   "cell_type": "code",
   "execution_count": 75,
   "id": "78bba364-0ec0-48b0-9478-8e2518d435ae",
   "metadata": {},
   "outputs": [
    {
     "name": "stdin",
     "output_type": "stream",
     "text": [
      "Enter the string hey how are you\n"
     ]
    },
    {
     "name": "stdout",
     "output_type": "stream",
     "text": [
      " Hey How Are You \n"
     ]
    }
   ],
   "source": [
    "str = input(\"Enter the string\")\n",
    "str1= str.split()\n",
    "new_str=' '\n",
    "for i in str1:\n",
    "    new_str=new_str+i.capitalize()+\" \"\n",
    "print(new_str)"
   ]
  },
  {
   "cell_type": "markdown",
   "id": "a26ca8a3-3f1b-4cce-87ad-a1d353213731",
   "metadata": {},
   "source": [
    "Calculate the sum and average of the digits present in a string Given a string s1, write aprogram to return the sum and average of the digits that appear in the string, ignoring all other characters."
   ]
  },
  {
   "cell_type": "code",
   "execution_count": 78,
   "id": "c489ce4b-574c-4323-bf84-2b48f9884b74",
   "metadata": {},
   "outputs": [
    {
     "name": "stdin",
     "output_type": "stream",
     "text": [
      "Enter the string hello123456\n"
     ]
    },
    {
     "name": "stdout",
     "output_type": "stream",
     "text": [
      "Sum is 21\n",
      "Average is 3.5\n"
     ]
    }
   ],
   "source": [
    "s1=input(\"Enter the string\")\n",
    "l1=[]\n",
    "sum=0\n",
    "count=0\n",
    "for i in s1:\n",
    "    if i.isdigit()==True:\n",
    "        l1.append(i)\n",
    "for i in l1:\n",
    "    sum=sum+int(i)\n",
    "    count=count+1\n",
    "print(\"Sum is\", sum)\n",
    "\n",
    "print(\"Average is\", (sum/count))"
   ]
  },
  {
   "cell_type": "markdown",
   "id": "0aec4684-ab35-4ff0-855f-c5e096012473",
   "metadata": {},
   "source": [
    "Find the last position of a given substring\n",
    "Write a program to find the last position of a substring “Emma” in a given string.\n",
    "str1 = \"Ankita is a data scientist who knows Python. Ankita works at google.\"\n",
    "expected-->Last occurrence of Ankita starts at index number?"
   ]
  },
  {
   "cell_type": "code",
   "execution_count": 79,
   "id": "329d1bab-c21e-4f43-9119-649766a7f85d",
   "metadata": {},
   "outputs": [
    {
     "name": "stdout",
     "output_type": "stream",
     "text": [
      "45\n"
     ]
    }
   ],
   "source": [
    "str1 = \"Ankita is a data scientist who knows Python. Ankita works at google.\"\n",
    "substr=\"Ankita\"\n",
    "print(str1.find(substr,2))\n"
   ]
  },
  {
   "cell_type": "markdown",
   "id": "38fd6fe3-a9ae-4145-a56b-e6bf490ba888",
   "metadata": {},
   "source": [
    "Write a program to split a given string on hyphens and display each substring.\n",
    "str1 = Ankita-is-a-data-scientist\n",
    "Expected-->Displaying each substring"
   ]
  },
  {
   "cell_type": "code",
   "execution_count": 81,
   "id": "00c6f4ca-231f-4c61-b68a-995bb0f70c0a",
   "metadata": {},
   "outputs": [
    {
     "name": "stdout",
     "output_type": "stream",
     "text": [
      "Ankita\n",
      "is\n",
      "a\n",
      "data\n",
      "scientist\n"
     ]
    }
   ],
   "source": [
    "str1 = \"Ankita-is-a-data-scientist\"\n",
    "str=str1.split('-')\n",
    "for i in str:\n",
    "    print(i)"
   ]
  },
  {
   "cell_type": "markdown",
   "id": "dccd6cb1-bba3-4579-b9c3-11bfe6419a7f",
   "metadata": {},
   "source": [
    "Remove empty strings from a list of strings"
   ]
  },
  {
   "cell_type": "code",
   "execution_count": 82,
   "id": "25d65d23-104f-401d-9dee-afa9c1f19dc1",
   "metadata": {},
   "outputs": [
    {
     "name": "stdout",
     "output_type": "stream",
     "text": [
      "['Ankita', 'Prashant', 'Jyotsana', 'Trishaan']\n"
     ]
    }
   ],
   "source": [
    "str= ['Ankita', 'Prashant', 'Jyotsana', None, 'Trishaan', '']\n",
    "\n",
    "for i in str:\n",
    "    if i=='' or i is None:\n",
    "        str.remove(i)\n",
    "print(str)"
   ]
  },
  {
   "cell_type": "markdown",
   "id": "8e8ca5e4-9950-486c-a7a2-957605302ff6",
   "metadata": {},
   "source": [
    "Remove all characters from a string except integers\n",
    "str1 = 'I am 25 years and 10 months old'\n",
    "expected-->2510"
   ]
  },
  {
   "cell_type": "code",
   "execution_count": 85,
   "id": "d6dd2f27-e811-4458-bdcc-7c76ead22713",
   "metadata": {},
   "outputs": [
    {
     "name": "stdin",
     "output_type": "stream",
     "text": [
      "Enter the string I am 25 years and 10 months old\n"
     ]
    },
    {
     "name": "stdout",
     "output_type": "stream",
     "text": [
      "2510\n"
     ]
    }
   ],
   "source": [
    "str = input(\"Enter the string\")\n",
    "l1=[]\n",
    "for i in str:\n",
    "    if i.isdigit()==True:\n",
    "        l1.append(i)\n",
    "print(\"\".join(l1))\n",
    "        "
   ]
  },
  {
   "cell_type": "markdown",
   "id": "061b82ba-ffda-4f84-9518-0556a1679b15",
   "metadata": {},
   "source": [
    "Find words with both alphabets and numbers\n",
    "Write a program to find words with both alphabets and numbers from an input string."
   ]
  },
  {
   "cell_type": "code",
   "execution_count": 88,
   "id": "724cabad-dd2f-4ca7-a917-7b7f229c2293",
   "metadata": {},
   "outputs": [
    {
     "name": "stdin",
     "output_type": "stream",
     "text": [
      "Enter the string Emma253 is Data scientist50000 and AI Expert\n"
     ]
    },
    {
     "name": "stdout",
     "output_type": "stream",
     "text": [
      "['Emma253', 'scientist50000']\n"
     ]
    }
   ],
   "source": [
    "str = input(\"Enter the string\")\n",
    "str1=str.split()\n",
    "l1=[]\n",
    "for i in str1:\n",
    "    for j in i:\n",
    "        if j.isdigit()==True:\n",
    "            if i not in l1:\n",
    "                l1.append(i)\n",
    "print(l1)\n",
    "        \n",
    "    "
   ]
  },
  {
   "cell_type": "markdown",
   "id": "6f65ad91-5524-4d57-803d-ce5df94e5c28",
   "metadata": {},
   "source": [
    "Replace each special symbol with # in the following string\n",
    "str1 = '/*Jon is @developer & musician!!'\n",
    "Expected-->##Jon is #developer # musician##"
   ]
  },
  {
   "cell_type": "code",
   "execution_count": 92,
   "id": "b384d5fd-6ba8-482b-865e-99d6f5967c52",
   "metadata": {},
   "outputs": [
    {
     "name": "stdout",
     "output_type": "stream",
     "text": [
      "##Jon is #developer # musician##\n"
     ]
    }
   ],
   "source": [
    "import string\n",
    "str1 = '/*Jon is @developer & musician!!'\n",
    "for i in string.punctuation:\n",
    "    if i in str1:\n",
    "        str1=str1.replace(i, '#')\n",
    "print(str1)"
   ]
  },
  {
   "cell_type": "markdown",
   "id": "e8bf9ab5-de3e-415a-baa0-27a431ee77af",
   "metadata": {},
   "source": [
    "extract the email service provider name"
   ]
  },
  {
   "cell_type": "code",
   "execution_count": 95,
   "id": "f2e11077-56f0-465c-a49f-986abad7a11d",
   "metadata": {},
   "outputs": [
    {
     "name": "stdout",
     "output_type": "stream",
     "text": [
      "datavizion\n",
      "yahoo\n",
      "google\n",
      "health\n"
     ]
    }
   ],
   "source": [
    "emaillist = [\"KSR@datavizion.com\", \"mymail@yahoo.com\", \"milindmali@google.com\", \"sn@health.com\"]\n",
    "\n",
    "for i in emaillist:\n",
    "    i=i.replace('@','.').split('.')\n",
    "    print(i[1])"
   ]
  },
  {
   "cell_type": "markdown",
   "id": "62d9df83-17b5-4f93-bafc-1b6f26147574",
   "metadata": {},
   "source": [
    "extract all the emailid for the given string = \"Hi my name is Govind Das and my mail id is getlost123@gmail.com and my org mail address is hello@abc.com\""
   ]
  },
  {
   "cell_type": "code",
   "execution_count": 98,
   "id": "18c9f948-b6e9-4114-97e8-c179304171d3",
   "metadata": {},
   "outputs": [],
   "source": [
    "str =  \"Hi my name is Govind Das and my mail id is getlost123@gmail.com and my org mail address is hello@abc.com\"\n",
    "str1=str.split()\n",
    "\n",
    "for i in str1:\n",
    "    if '.com' in i:\n",
    "        print(i)"
   ]
  },
  {
   "cell_type": "code",
   "execution_count": null,
   "id": "977d6a4d-89ae-4221-8f8f-d59e74821583",
   "metadata": {},
   "outputs": [],
   "source": []
  }
 ],
 "metadata": {
  "kernelspec": {
   "display_name": "Python 3 (ipykernel)",
   "language": "python",
   "name": "python3"
  },
  "language_info": {
   "codemirror_mode": {
    "name": "ipython",
    "version": 3
   },
   "file_extension": ".py",
   "mimetype": "text/x-python",
   "name": "python",
   "nbconvert_exporter": "python",
   "pygments_lexer": "ipython3",
   "version": "3.12.7"
  }
 },
 "nbformat": 4,
 "nbformat_minor": 5
}
