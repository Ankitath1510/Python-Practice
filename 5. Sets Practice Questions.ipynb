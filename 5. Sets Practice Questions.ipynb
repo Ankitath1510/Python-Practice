{
 "cells": [
  {
   "cell_type": "markdown",
   "id": "e5ee8960",
   "metadata": {},
   "source": [
    "# Module 3: Data Structures Assignments\n",
    "## Lesson 3.3: Sets\n",
    "### Assignment 1: Creating and Accessing Sets\n",
    "\n",
    "Create a set with the first 10 positive integers. Print the set.\n",
    "\n",
    "### Assignment 2: Adding and Removing Elements\n",
    "\n",
    "Add the number 11 to the set created in Assignment 1. Then remove the number 1 from the set. Print the modified set.\n",
    "\n",
    "### Assignment 3: Set Operations\n",
    "\n",
    "Create two sets: one with the first 5 positive integers and another with the first 5 even integers. Perform and print the results of union, intersection, difference, and symmetric difference operations on these sets.\n",
    "\n",
    "### Assignment 4: Set Comprehensions\n",
    "\n",
    "Create a new set containing the squares of the first 10 positive integers using a set comprehension. Print the new set.\n",
    "\n",
    "### Assignment 5: Filtering Sets\n",
    "\n",
    "Create a new set containing only the even numbers from the set created in Assignment 1 using a set comprehension. Print the new set.\n",
    "\n",
    "### Assignment 6: Set Methods\n",
    "\n",
    "Create a set with duplicate elements and remove the duplicates using set methods. Print the modified set.\n",
    "\n",
    "### Assignment 7: Subsets and Supersets\n",
    "\n",
    "Create two sets: one with the first 5 positive integers and another with the first 3 positive integers. Check if the second set is a subset of the first set and if the first set is a superset of the second set. Print the results.\n",
    "\n",
    "### Assignment 8: Frozenset\n",
    "\n",
    "Create a frozenset with the first 5 positive integers. Print the frozenset.\n",
    "\n",
    "### Assignment 9: Set and List Conversion\n",
    "\n",
    "Create a set with the first 5 positive integers. Convert it to a list, append the number 6, and convert it back to a set. Print the resulting set.\n",
    "\n",
    "### Assignment 10: Set and Dictionary\n",
    "\n",
    "Create a dictionary with set keys and integer values. Print the dictionary.\n",
    "\n",
    "### Assignment 11: Iterating Over Sets\n",
    "\n",
    "Create a set and iterate over the elements, printing each element.\n",
    "\n",
    "### Assignment 12: Removing Elements from Sets\n",
    "\n",
    "Create a set and remove elements from it until it is empty. Print the set after each removal.\n",
    "\n",
    "### Assignment 13: Set Symmetric Difference Update\n",
    "\n",
    "Create two sets and update the first set with the symmetric difference of the two sets. Print the modified first set.\n",
    "\n",
    "### Assignment 14: Set Membership Testing\n",
    "\n",
    "Create a set and test if certain elements are present in the set. Print the results.\n",
    "\n",
    "### Assignment 15: Set of Tuples\n",
    "\n",
    "Create a set containing tuples, where each tuple contains two elements. Print the set."
   ]
  },
  {
   "cell_type": "markdown",
   "id": "44275ff3-0acc-4630-be23-32037007d048",
   "metadata": {},
   "source": [
    "#### Creating and Accessing Sets\n",
    "Create a set with the first 10 positive integers. Print the set."
   ]
  },
  {
   "cell_type": "code",
   "execution_count": 2,
   "id": "d1d5a280-a086-4ae0-a922-cbdae447ea82",
   "metadata": {},
   "outputs": [
    {
     "name": "stdout",
     "output_type": "stream",
     "text": [
      "{1, 2, 3, 4, 5, 6, 7, 8, 9, 10}\n"
     ]
    }
   ],
   "source": [
    "set1 = {1,2,3,4,5,6,7,8,9,10}\n",
    "print(set1)"
   ]
  },
  {
   "cell_type": "markdown",
   "id": "731a2c9a-f612-4826-b761-8788be133ff5",
   "metadata": {},
   "source": [
    "#### Adding and Removing Elements\n",
    "Add the number 11 to the set created in Assignment 1. Then remove the number 1 from the set. Print the modified set."
   ]
  },
  {
   "cell_type": "code",
   "execution_count": 7,
   "id": "3edbe18f-dfa5-4ad6-aac6-ee467b07c0ef",
   "metadata": {},
   "outputs": [
    {
     "name": "stdout",
     "output_type": "stream",
     "text": [
      "{1, 2, 3, 4, 5, 6, 7, 8, 9, 10, 11}\n",
      "{2, 3, 4, 5, 6, 7, 8, 9, 10, 11}\n"
     ]
    }
   ],
   "source": [
    "set1.add(11)\n",
    "print(set1)\n",
    "set1.remove(1)\n",
    "print(set1)"
   ]
  },
  {
   "cell_type": "markdown",
   "id": "e0a9e7a7-ca3a-4210-a7a4-eb1f5a7e83e5",
   "metadata": {},
   "source": [
    "#### Set Operations\n",
    "Create two sets: one with the first 5 positive integers and another with the first 5 even integers. Perform and print the results of union, intersection, difference, and symmetric difference operations on these sets."
   ]
  },
  {
   "cell_type": "code",
   "execution_count": 10,
   "id": "357c31bb-994f-4da9-942c-971edfe6b1b5",
   "metadata": {},
   "outputs": [
    {
     "name": "stdout",
     "output_type": "stream",
     "text": [
      "Union is {1, 2, 3, 4, 5, 6, 7, 8}\n",
      "Intersection is {4, 5}\n",
      "Difference is {1, 2, 3}\n",
      "Symmetric Difference is {1, 2, 3, 6, 7, 8}\n"
     ]
    }
   ],
   "source": [
    "set1={1,2,3,4,5}\n",
    "set2={6,7,8,5,4}\n",
    "\n",
    "union = set1.union(set2)\n",
    "intersection = set1.intersection(set2)\n",
    "difference  = set1.difference(set2)\n",
    "sym_diff = set1.symmetric_difference(set2)\n",
    "\n",
    "print(\"Union is\", union)\n",
    "print(\"Intersection is\", intersection)\n",
    "print(\"Difference is\", difference)\n",
    "print(\"Symmetric Difference is\", sym_diff)"
   ]
  },
  {
   "cell_type": "markdown",
   "id": "ffe82b5b-e78c-42ce-add1-96fcd5b613e6",
   "metadata": {},
   "source": [
    "#### Set Comprehensions\n",
    "\n",
    "Create a new set containing the squares of the first 10 positive integers using a set comprehension. Print the new set."
   ]
  },
  {
   "cell_type": "code",
   "execution_count": 13,
   "id": "f62c7472-1e06-48e7-8193-2dde7f0b7b8a",
   "metadata": {},
   "outputs": [
    {
     "name": "stdout",
     "output_type": "stream",
     "text": [
      "{64, 1, 4, 36, 100, 9, 16, 49, 81, 25}\n"
     ]
    }
   ],
   "source": [
    "square_set = {x**2 for x in range(1,11)}\n",
    "print(square_set)"
   ]
  },
  {
   "cell_type": "markdown",
   "id": "41fcdad8-e5ad-4ddc-82e7-b882b9cabf82",
   "metadata": {},
   "source": [
    "#### Filtering Sets\n",
    "\n",
    "Create a new set containing only the even numbers from the set created in Assignment 1 using a set comprehension. Print the new set."
   ]
  },
  {
   "cell_type": "code",
   "execution_count": 16,
   "id": "65c9f9fa-67b7-4c56-b3f5-6381737c491f",
   "metadata": {},
   "outputs": [
    {
     "name": "stdout",
     "output_type": "stream",
     "text": [
      "{2, 4, 6, 8, 10}\n"
     ]
    }
   ],
   "source": [
    "set1 = {x for x in range(1,11) if x%2==0}\n",
    "print(set1)"
   ]
  },
  {
   "cell_type": "markdown",
   "id": "e65d62d1-55bd-4c33-a28c-97fd9048fd89",
   "metadata": {},
   "source": [
    "#### Set Methods\n",
    "\n",
    "Create a set with duplicate elements and remove the duplicates using set methods. Print the modified set."
   ]
  },
  {
   "cell_type": "code",
   "execution_count": 19,
   "id": "2976858d-5605-4e9f-a2ed-a38984188c50",
   "metadata": {},
   "outputs": [
    {
     "name": "stdout",
     "output_type": "stream",
     "text": [
      "{2, 3, 4, 5, 6}\n"
     ]
    }
   ],
   "source": [
    "set2 = {2,3,3,4,4,5,6}\n",
    "print(set2)"
   ]
  },
  {
   "cell_type": "markdown",
   "id": "4708d9c1-be7d-43db-a555-c8afb9c580d8",
   "metadata": {},
   "source": [
    "#### Subsets and Supersets\n",
    "\n",
    "Create two sets: one with the first 5 positive integers and another with the first 3 positive integers. Check if the second set is a subset of the first set and if the first set is a superset of the second set. Print the results."
   ]
  },
  {
   "cell_type": "code",
   "execution_count": 24,
   "id": "9cb07051-ef44-4b71-b755-5a2c4f532d2d",
   "metadata": {},
   "outputs": [
    {
     "name": "stdout",
     "output_type": "stream",
     "text": [
      "True\n",
      "True\n"
     ]
    }
   ],
   "source": [
    "set1 = {1,2,3,4,5}\n",
    "set2={2,3,5}\n",
    "print(set2.issubset(set1))\n",
    "print(set1.issuperset(set2))"
   ]
  },
  {
   "cell_type": "markdown",
   "id": "40ab1e02-38a4-40e6-ad80-05bdaa3b0b36",
   "metadata": {},
   "source": [
    "#### Frozenset\n",
    "\n",
    "Create a frozenset with the first 5 positive integers. Print the frozenset."
   ]
  },
  {
   "cell_type": "code",
   "execution_count": 35,
   "id": "1c1b94a5-121c-48ba-b03b-03cc4e457d52",
   "metadata": {},
   "outputs": [
    {
     "name": "stdout",
     "output_type": "stream",
     "text": [
      "frozenset({1, 2, 3, 4, 5})\n"
     ]
    }
   ],
   "source": [
    "frozen_numbers = frozenset([1,2,3,4,5])\n",
    "print(frozen_numbers)"
   ]
  },
  {
   "cell_type": "markdown",
   "id": "8348b597-ec34-4691-9d49-fe588d83a3ff",
   "metadata": {},
   "source": [
    "#### Set and List Conversion\n",
    "\n",
    "Create a set with the first 5 positive integers. Convert it to a list, append the number 6, and convert it back to a set. Print the resulting set."
   ]
  },
  {
   "cell_type": "code",
   "execution_count": 38,
   "id": "149f2a64-8fbc-412b-826a-ad3b406a3e8f",
   "metadata": {},
   "outputs": [
    {
     "name": "stdout",
     "output_type": "stream",
     "text": [
      "{1, 2, 3, 4, 5, 6}\n"
     ]
    }
   ],
   "source": [
    "set1 = {x for x in range(1,6)}\n",
    "list1 = list(set1)\n",
    "list1.append(6)\n",
    "set2 = set(list1)\n",
    "print(set2)"
   ]
  },
  {
   "cell_type": "markdown",
   "id": "ac03e799-8357-41d4-8568-a4d4838aa19b",
   "metadata": {},
   "source": [
    "#### Set and Dictionary\n",
    "\n",
    "Create a dictionary with set keys and integer values. Print the dictionary."
   ]
  },
  {
   "cell_type": "code",
   "execution_count": 45,
   "id": "176d90bf-ca82-4b3e-9440-f1d25bcaa479",
   "metadata": {},
   "outputs": [
    {
     "name": "stdout",
     "output_type": "stream",
     "text": [
      "frozenset({0, 1}) => 1\n",
      "frozenset({1, 2}) => 2\n",
      "frozenset({2, 3}) => 3\n",
      "frozenset({3, 4}) => 4\n"
     ]
    }
   ],
   "source": [
    "dict = {\n",
    "    frozenset({0,1}):1,\n",
    "    frozenset({1,2}):2,\n",
    "    frozenset({2,3}):3,\n",
    "    frozenset({3,4}):4\n",
    "}\n",
    "for key, value in dict.items():\n",
    "    print(f\"{key} => {value}\")"
   ]
  },
  {
   "cell_type": "markdown",
   "id": "c401c54c-21ca-4982-b1d1-6072479aa020",
   "metadata": {},
   "source": [
    "#### Iterating Over Sets\n",
    "\n",
    "Create a set and iterate over the elements, printing each element."
   ]
  },
  {
   "cell_type": "code",
   "execution_count": 48,
   "id": "00724a35-8801-4897-9eed-ff74eba31340",
   "metadata": {},
   "outputs": [
    {
     "name": "stdout",
     "output_type": "stream",
     "text": [
      "1\n",
      "2\n",
      "3\n",
      "4\n",
      "5\n",
      "6\n"
     ]
    }
   ],
   "source": [
    "set1 = {1,2,3,4,5,5,6}\n",
    "for j in set1:\n",
    "    print(j)"
   ]
  },
  {
   "cell_type": "markdown",
   "id": "69a0db59-c200-47c3-bda6-2d1dbaedd515",
   "metadata": {},
   "source": [
    "#### Removing Elements from Sets\n",
    "\n",
    "Create a set and remove elements from it until it is empty. Print the set after each removal."
   ]
  },
  {
   "cell_type": "code",
   "execution_count": 55,
   "id": "a5381f7c-e964-485e-bf69-8770849584fe",
   "metadata": {},
   "outputs": [
    {
     "name": "stdout",
     "output_type": "stream",
     "text": [
      "Before removing\n",
      "{1, 2, 3, 4, 5, 6, 7, 8, 9, 10}\n",
      "After removing\n",
      "set()\n"
     ]
    }
   ],
   "source": [
    "set1 = {x for x in range(1,11)}\n",
    "print(\"Before removing\")\n",
    "print(set1)\n",
    "while set1:\n",
    "    set1.pop()\n",
    "print (\"After removing\")\n",
    "print(set1)\n"
   ]
  },
  {
   "cell_type": "markdown",
   "id": "107432c8-c8fd-4b39-9890-39bbef770c17",
   "metadata": {},
   "source": [
    "#### Set Symmetric Difference Update\n",
    "\n",
    "Create two sets and update the first set with the symmetric difference of the two sets. Print the modified first set."
   ]
  },
  {
   "cell_type": "code",
   "execution_count": 62,
   "id": "9b950a03-fb2b-4349-8877-5d18777d0f17",
   "metadata": {},
   "outputs": [
    {
     "name": "stdout",
     "output_type": "stream",
     "text": [
      "{1, 2, 5, 6}\n"
     ]
    }
   ],
   "source": [
    "set1 = {1,2,3,4}\n",
    "set2 = {3,4,5,6}\n",
    "set1.symmetric_difference_update(set2)\n",
    "print(set1)\n"
   ]
  },
  {
   "cell_type": "markdown",
   "id": "45f1bef9-c0f6-4de8-8c10-3c9471564230",
   "metadata": {},
   "source": [
    "#### Set Membership Testing\n",
    "\n",
    "Create a set and test if certain elements are present in the set. Print the results."
   ]
  },
  {
   "cell_type": "code",
   "execution_count": 69,
   "id": "65f75ffa-28f3-4170-80df-fbce0c1b911b",
   "metadata": {},
   "outputs": [
    {
     "name": "stdout",
     "output_type": "stream",
     "text": [
      "The 10 is present\n",
      "The 30 is present\n",
      "The 50 is present\n",
      "The 20 is present\n",
      "The 5 is not present\n"
     ]
    }
   ],
   "source": [
    "set1 = {10,20,30,40,50}\n",
    "test_elements = [10,30,50,20,5]\n",
    "for i in test_elements:\n",
    "    if i in set1:\n",
    "        print(f\"{i} is present\")\n",
    "    else:\n",
    "        print(f\"{i} is not present\")"
   ]
  },
  {
   "cell_type": "code",
   "execution_count": null,
   "id": "92be5152-2b49-4ad6-8dff-06436b863d1c",
   "metadata": {},
   "outputs": [],
   "source": []
  }
 ],
 "metadata": {
  "kernelspec": {
   "display_name": "Python [conda env:base] *",
   "language": "python",
   "name": "conda-base-py"
  },
  "language_info": {
   "codemirror_mode": {
    "name": "ipython",
    "version": 3
   },
   "file_extension": ".py",
   "mimetype": "text/x-python",
   "name": "python",
   "nbconvert_exporter": "python",
   "pygments_lexer": "ipython3",
   "version": "3.12.7"
  }
 },
 "nbformat": 4,
 "nbformat_minor": 5
}
