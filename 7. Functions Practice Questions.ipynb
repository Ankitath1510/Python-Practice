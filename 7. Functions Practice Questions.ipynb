{
 "cells": [
  {
   "cell_type": "markdown",
   "id": "05c2f0d4-7133-473f-8571-db3be09b9a40",
   "metadata": {},
   "source": [
    "#### Temperature Conversion"
   ]
  },
  {
   "cell_type": "code",
   "execution_count": 6,
   "id": "35beec22-5a7e-48f0-8895-6fa0992281b2",
   "metadata": {},
   "outputs": [
    {
     "name": "stdout",
     "output_type": "stream",
     "text": [
      "95.0\n"
     ]
    }
   ],
   "source": [
    "def temp_convert(temp, unit):\n",
    "    if unit=='C':\n",
    "        return temp * 9/5+32   #Celsius to Farenheit\n",
    "    elif unit=='F':\n",
    "        return (temp-32)*5/9   #Farenheit to Celsius\n",
    "    else:\n",
    "        return None\n",
    "print(temp_convert(35,'C'))"
   ]
  },
  {
   "cell_type": "markdown",
   "id": "c5e90f0e-b6f9-4c56-ad3e-394b5ae6a5ab",
   "metadata": {},
   "source": [
    "#### Password Strength Checker"
   ]
  },
  {
   "cell_type": "code",
   "execution_count": 11,
   "id": "4c4b60ec-2e07-4a55-8021-e0fd6d7c5016",
   "metadata": {},
   "outputs": [
    {
     "name": "stdout",
     "output_type": "stream",
     "text": [
      "False\n"
     ]
    }
   ],
   "source": [
    "def is_strong(password):\n",
    "    if len(password)<8:\n",
    "        return False\n",
    "    if not any(char.isdigit() for char in password):\n",
    "        return False\n",
    "    if not any(char.islower() for char in password):\n",
    "        return False\n",
    "    if not any(char.isupper() for char in password):\n",
    "        return False\n",
    "    if not any('!@#$%^&*()_+' for char in password):\n",
    "        return False\n",
    "print(is_strong('helloWorld'))\n",
    "\n",
    "        "
   ]
  },
  {
   "cell_type": "markdown",
   "id": "87f378b4-f08b-4de9-8c36-8a8625eb3fc6",
   "metadata": {},
   "source": [
    "#### Calculate Total Cost of Items in Shopping Cart"
   ]
  },
  {
   "cell_type": "code",
   "execution_count": 14,
   "id": "20b71815-c722-4120-ac40-350108c68de4",
   "metadata": {},
   "outputs": [
    {
     "name": "stdout",
     "output_type": "stream",
     "text": [
      "10.600000000000001\n"
     ]
    }
   ],
   "source": [
    "def calculate_cost(cart):\n",
    "    total_cost=0\n",
    "    for item in cart:\n",
    "        total_cost+=item['price']*item['quantity']\n",
    "    return total_cost\n",
    "\n",
    "\n",
    "cart = [\n",
    "    {'name':'Apple', 'price':0.5, 'quantity':4},\n",
    "    {'name':'Orange', 'price':0.6, 'quantity':5},\n",
    "    {'name':'Banana', 'price':0.8, 'quantity':7}\n",
    "]\n",
    "\n",
    "print(calculate_cost(cart))"
   ]
  },
  {
   "cell_type": "markdown",
   "id": "2ffea3e5-5b37-40a4-adfc-1ea1f687df27",
   "metadata": {},
   "source": [
    "#### Check if the string is palindrome"
   ]
  },
  {
   "cell_type": "code",
   "execution_count": 30,
   "id": "6750e6bc-48f4-427d-ad63-3d941d572f4e",
   "metadata": {},
   "outputs": [
    {
     "name": "stdout",
     "output_type": "stream",
     "text": [
      "True\n",
      "False\n"
     ]
    }
   ],
   "source": [
    "def isPalindrome(s):\n",
    "    s=s.lower().replace(\" \",\"\")\n",
    "    if s[::-1]==s:\n",
    "        return True\n",
    "    else:\n",
    "        return False\n",
    "\n",
    "print(isPalindrome(\"Nitin\"))\n",
    "print(isPalindrome(\"Nitins\"))"
   ]
  },
  {
   "cell_type": "markdown",
   "id": "1594a039-4bc6-43b9-a054-e9860db8e8a8",
   "metadata": {},
   "source": [
    "#### Calculate Factorial using Recursion"
   ]
  },
  {
   "cell_type": "code",
   "execution_count": 34,
   "id": "3afadbfb-8da0-4058-87c5-c561479214f4",
   "metadata": {},
   "outputs": [
    {
     "name": "stdout",
     "output_type": "stream",
     "text": [
      "120\n",
      "5040\n"
     ]
    }
   ],
   "source": [
    "def factorial(n):\n",
    "    if n==0:\n",
    "        return 1\n",
    "    else:\n",
    "        return n*factorial(n-1)\n",
    "print(factorial(5))\n",
    "print(factorial(7))"
   ]
  },
  {
   "cell_type": "markdown",
   "id": "dadb9a12-2c02-4b4c-b640-65c91b0e1aeb",
   "metadata": {},
   "source": [
    "#### Function to read a file and count the frequency of each word"
   ]
  },
  {
   "cell_type": "code",
   "execution_count": null,
   "id": "3fc0eb90-7a1d-4ef1-a2d9-431e1c3e5705",
   "metadata": {},
   "outputs": [],
   "source": [
    "def count_word_freq(file_path):\n",
    "    word_count={}\n",
    "    with open(file_path, 'r') as file:\n",
    "        for line in file:\n",
    "            words=line.split()\n",
    "            for words in word:\n",
    "                word=word.lower().strip(')\n",
    "                "
   ]
  },
  {
   "cell_type": "markdown",
   "id": "683f9bdb-230e-4987-b28f-90c801798c6b",
   "metadata": {},
   "source": [
    "#### Lambda Functions"
   ]
  },
  {
   "cell_type": "code",
   "execution_count": 2,
   "id": "34a0fe5d-905b-4297-a087-d9955479a9ac",
   "metadata": {},
   "outputs": [
    {
     "data": {
      "text/plain": [
       "11"
      ]
     },
     "execution_count": 2,
     "metadata": {},
     "output_type": "execute_result"
    }
   ],
   "source": [
    "addition = lambda a,b:a+b\n",
    "addition(5,6)"
   ]
  },
  {
   "cell_type": "code",
   "execution_count": 4,
   "id": "923fecc2-5fea-421a-8be9-26a5c9ccf7a6",
   "metadata": {},
   "outputs": [
    {
     "data": {
      "text/plain": [
       "False"
      ]
     },
     "execution_count": 4,
     "metadata": {},
     "output_type": "execute_result"
    }
   ],
   "source": [
    "even = lambda a: a%2==0\n",
    "even(5)"
   ]
  },
  {
   "cell_type": "code",
   "execution_count": 6,
   "id": "6ea3eae7-6b77-4b8a-947d-f5ad90a0a11e",
   "metadata": {},
   "outputs": [
    {
     "data": {
      "text/plain": [
       "18"
      ]
     },
     "execution_count": 6,
     "metadata": {},
     "output_type": "execute_result"
    }
   ],
   "source": [
    "addition=lambda x,y,z: x+y+z\n",
    "addition(5,6,7)"
   ]
  },
  {
   "cell_type": "markdown",
   "id": "f6831704-7029-4148-95dd-f2c6ca6e9c48",
   "metadata": {},
   "source": [
    "#### Map Functions"
   ]
  },
  {
   "cell_type": "code",
   "execution_count": 15,
   "id": "074bd5fc-da72-4528-9819-e1eff4c5b94d",
   "metadata": {},
   "outputs": [
    {
     "name": "stdout",
     "output_type": "stream",
     "text": [
      "[1, 2, 3, 4, 5, 6, 7, 8, 9, 10]\n"
     ]
    },
    {
     "data": {
      "text/plain": [
       "[1, 4, 9, 16, 25, 36, 49, 64, 81, 100]"
      ]
     },
     "execution_count": 15,
     "metadata": {},
     "output_type": "execute_result"
    }
   ],
   "source": [
    "numbers =[x for x in range(1,11)]\n",
    "print(numbers)\n",
    "list(map(lambda x:x*x, numbers))"
   ]
  },
  {
   "cell_type": "code",
   "execution_count": 17,
   "id": "5c4f44e0-9cc6-4c91-a9fb-33b930af4c26",
   "metadata": {},
   "outputs": [
    {
     "data": {
      "text/plain": [
       "[5, 7, 9]"
      ]
     },
     "execution_count": 17,
     "metadata": {},
     "output_type": "execute_result"
    }
   ],
   "source": [
    "numbers1=[1,2,3]\n",
    "numbers2=[4,5,6]\n",
    "list(map(lambda x,y:x+y, numbers1, numbers2))"
   ]
  },
  {
   "cell_type": "code",
   "execution_count": 19,
   "id": "d57c7f6b-9571-4586-abcb-b54ec7c28d74",
   "metadata": {},
   "outputs": [
    {
     "name": "stdout",
     "output_type": "stream",
     "text": [
      "[1, 2, 3, 4, 5]\n"
     ]
    }
   ],
   "source": [
    "str_numbers = ['1','2','3','4','5']\n",
    "int_numbers = list(map(int, str_numbers))\n",
    "print(int_numbers)"
   ]
  },
  {
   "cell_type": "code",
   "execution_count": 27,
   "id": "366418e7-1f0a-46e6-9a1c-4880bf01d66c",
   "metadata": {},
   "outputs": [
    {
     "data": {
      "text/plain": [
       "['APPLE', 'BANANA', 'ORANGE']"
      ]
     },
     "execution_count": 27,
     "metadata": {},
     "output_type": "execute_result"
    }
   ],
   "source": [
    "words = ['apple', 'banana', 'orange']\n",
    "list(map(str.upper, words))"
   ]
  },
  {
   "cell_type": "code",
   "execution_count": 31,
   "id": "c6e0d10a-4d43-432b-8855-986b3bb412f7",
   "metadata": {},
   "outputs": [
    {
     "data": {
      "text/plain": [
       "['Doob', 'Jack']"
      ]
     },
     "execution_count": 31,
     "metadata": {},
     "output_type": "execute_result"
    }
   ],
   "source": [
    "def get_name(person):\n",
    "    return person['name']\n",
    "people = [\n",
    "    {'name':'Doob', 'age':32},\n",
    "    {'name':'Jack', 'age':53}\n",
    "]\n",
    "list(map(get_name, people))"
   ]
  },
  {
   "cell_type": "markdown",
   "id": "c4f5ed7d-b0d7-4ae8-b03d-624e50e42cee",
   "metadata": {},
   "source": [
    "#### Filter Functions"
   ]
  },
  {
   "cell_type": "code",
   "execution_count": 40,
   "id": "6d4755ae-d664-40d2-9811-2519559e6e1f",
   "metadata": {},
   "outputs": [
    {
     "data": {
      "text/plain": [
       "[2, 4, 6, 8, 10]"
      ]
     },
     "execution_count": 40,
     "metadata": {},
     "output_type": "execute_result"
    }
   ],
   "source": [
    "lst = [x for x in range(1,11)]\n",
    "list(filter(even,lst))"
   ]
  },
  {
   "cell_type": "markdown",
   "id": "82bcaa10-2fe0-4453-bbef-7fb01367938b",
   "metadata": {},
   "source": [
    "#### Filter with Lambda Function"
   ]
  },
  {
   "cell_type": "code",
   "execution_count": 45,
   "id": "2402fa43-011c-4e51-aa3c-3061006c5d67",
   "metadata": {},
   "outputs": [
    {
     "name": "stdout",
     "output_type": "stream",
     "text": [
      "[6, 8, 10]\n"
     ]
    }
   ],
   "source": [
    "numbers = [x for x in range(1,11)]\n",
    "even_and_greater = list(filter(lambda x: x>5 and x%2==0, numbers))\n",
    "print(even_and_greater)"
   ]
  },
  {
   "cell_type": "code",
   "execution_count": null,
   "id": "855aa418-5afa-491b-a4c4-7318e0b342fd",
   "metadata": {},
   "outputs": [],
   "source": []
  }
 ],
 "metadata": {
  "kernelspec": {
   "display_name": "Python [conda env:base] *",
   "language": "python",
   "name": "conda-base-py"
  },
  "language_info": {
   "codemirror_mode": {
    "name": "ipython",
    "version": 3
   },
   "file_extension": ".py",
   "mimetype": "text/x-python",
   "name": "python",
   "nbconvert_exporter": "python",
   "pygments_lexer": "ipython3",
   "version": "3.12.7"
  }
 },
 "nbformat": 4,
 "nbformat_minor": 5
}
