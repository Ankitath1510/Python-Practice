{
 "cells": [
  {
   "cell_type": "markdown",
   "id": "1020792f-01fb-47c4-86ce-158ded55e49d",
   "metadata": {},
   "source": [
    "## Creating and Accessing Lists\n",
    "Create a list of the first 20 positive integers. Print the list."
   ]
  },
  {
   "cell_type": "code",
   "execution_count": 2,
   "id": "449d5eba-1d21-4686-b15f-f2e67fbbc893",
   "metadata": {},
   "outputs": [
    {
     "name": "stdout",
     "output_type": "stream",
     "text": [
      "[1, 2, 3, 4, 5, 6, 7, 8, 9, 10, 11, 12, 13, 14, 15, 16, 17, 18, 19, 20]\n"
     ]
    }
   ],
   "source": [
    "l =[]\n",
    "for i in range(1,21):\n",
    "    l.append(i)\n",
    "print(l)"
   ]
  },
  {
   "cell_type": "markdown",
   "id": "abb13e61-0804-4057-bbcf-83e7724c5118",
   "metadata": {},
   "source": [
    "## Accessing List Elements¶\n",
    "Print the first, middle, and last elements of the list created in Assignment 1."
   ]
  },
  {
   "cell_type": "code",
   "execution_count": 13,
   "id": "2b148aab-a953-421e-b182-17f734e42bd5",
   "metadata": {},
   "outputs": [
    {
     "name": "stdout",
     "output_type": "stream",
     "text": [
      "1 [10, 11] 20\n"
     ]
    }
   ],
   "source": [
    "length = len(l)\n",
    "first_element = l[0]\n",
    "last_element = l[-1]\n",
    "mid_index=length//2\n",
    "if length%2==0:\n",
    "    middle_element = l[mid_index-1:mid_index+1]\n",
    "else:\n",
    "    middle_element = l[mid_index]\n",
    "print(first_element, middle_element, last_element)"
   ]
  },
  {
   "cell_type": "markdown",
   "id": "298859a8-42fe-4af2-a909-ea8e8e9b768d",
   "metadata": {},
   "source": [
    "## List Slicing¶\n",
    "Print the first five elements, the last five elements, and the elements from index 5 to 15 of the list created in Assignment 1."
   ]
  },
  {
   "cell_type": "code",
   "execution_count": 28,
   "id": "dfdd76fd-8ac7-405d-a84b-1a5f82912a76",
   "metadata": {},
   "outputs": [
    {
     "name": "stdout",
     "output_type": "stream",
     "text": [
      "[1, 2, 3, 4, 5]\n",
      "[16, 17, 18, 19, 20]\n",
      "[6, 7, 8, 9, 10, 11, 12, 13, 14, 15]\n"
     ]
    }
   ],
   "source": [
    "print (l[:5]) #First five elements\n",
    "print(l[-5:]) #Last five elements\n",
    "print(l[5:15]) #elements from index 5 to 15"
   ]
  },
  {
   "cell_type": "markdown",
   "id": "c38ee78a-8812-4635-9712-22de68e7f49c",
   "metadata": {},
   "source": [
    "## List Comprehensions\n",
    "\n",
    "Create a new list containing the squares of the first 10 positive integers using a list comprehension. Print the new list."
   ]
  },
  {
   "cell_type": "code",
   "execution_count": 33,
   "id": "49096aa6-f42a-47c1-89f4-5d7fce94cfa9",
   "metadata": {},
   "outputs": [
    {
     "name": "stdout",
     "output_type": "stream",
     "text": [
      "[1, 4, 9, 16, 25, 36, 49, 64, 81, 100]\n"
     ]
    }
   ],
   "source": [
    "squares = [x**2 for x in range(1,11)]\n",
    "print(squares)"
   ]
  },
  {
   "cell_type": "markdown",
   "id": "9bb44cc5-cc5e-44d6-9dca-8536d3d6a898",
   "metadata": {},
   "source": [
    "## Filtering Lists\n",
    "\n",
    "Create a new list containing only the even numbers from the list created in Assignment 1 using a list comprehension. Print the new list."
   ]
  },
  {
   "cell_type": "code",
   "execution_count": 38,
   "id": "eb46e7c8-7b1d-4baa-8eb8-7f944b893908",
   "metadata": {},
   "outputs": [
    {
     "name": "stdout",
     "output_type": "stream",
     "text": [
      "[2, 4, 6, 8, 10, 12, 14, 16, 18, 20]\n"
     ]
    }
   ],
   "source": [
    "even = [x for x in l if x%2==0] \n",
    "print(even)"
   ]
  },
  {
   "cell_type": "markdown",
   "id": "6ea1bc5c-6cbe-4e1b-86c8-c483f2a575bc",
   "metadata": {},
   "source": [
    "## List Methods\n",
    "\n",
    "Create a list of random numbers and sort it in ascending and descending order. Remove the duplicates from the list and print the modified list."
   ]
  },
  {
   "cell_type": "code",
   "execution_count": 51,
   "id": "b17732bd-2dec-4687-9f8b-8d44ba714a40",
   "metadata": {},
   "outputs": [
    {
     "name": "stdout",
     "output_type": "stream",
     "text": [
      "[18, 19, 16, 8, 11, 17, 1, 8, 5, 11, 9, 8, 4, 20, 6]\n",
      "Ascending numbers are [1, 4, 5, 6, 8, 8, 8, 9, 11, 11, 16, 17, 18, 19, 20]\n",
      "Descending numbers are [20, 19, 18, 17, 16, 11, 11, 9, 8, 8, 8, 6, 5, 4, 1]\n",
      "Unique numbers are {1, 4, 5, 6, 8, 9, 11, 16, 17, 18, 19, 20}\n"
     ]
    }
   ],
   "source": [
    "import random\n",
    "random_numbers = [random.randint(1,20) for _ in range(15)]\n",
    "print(random_numbers)\n",
    "ascending = sorted(random_numbers)\n",
    "descending = sorted(random_numbers, reverse=True)\n",
    "unique = set(random_numbers)\n",
    "print(\"Ascending numbers are\", ascending)\n",
    "print(\"Descending numbers are\", descending)\n",
    "print(\"Unique numbers are\", unique)\n"
   ]
  },
  {
   "cell_type": "markdown",
   "id": "8c2f6b95-d8d1-4543-9f02-75643de20ac0",
   "metadata": {},
   "source": [
    "## Nested Lists\n",
    "Create a nested list representing a 3x3 matrix and print the matrix. Access and print the element at the second row and third column."
   ]
  },
  {
   "cell_type": "code",
   "execution_count": 63,
   "id": "830dcb98-ec91-40bf-b27c-66323081138c",
   "metadata": {},
   "outputs": [
    {
     "name": "stdout",
     "output_type": "stream",
     "text": [
      "[1, 2, 3]\n",
      "[4, 5, 6]\n",
      "[7, 8, 9]\n",
      "6\n"
     ]
    }
   ],
   "source": [
    "matrix = [\n",
    "    [1,2,3],\n",
    "    [4,5,6],\n",
    "    [7,8,9]\n",
    "    \n",
    "]\n",
    "for i in matrix:\n",
    "    print(i)\n",
    "\n",
    "element = matrix [1][2]\n",
    "print(element)"
   ]
  },
  {
   "cell_type": "markdown",
   "id": "82fff722-701a-42cf-8def-b785f0b8fbef",
   "metadata": {},
   "source": [
    "## List of Dictionaries\n",
    "\n",
    "Create a list of dictionaries where each dictionary represents a student with keys 'name' and 'score'. Sort the list of dictionaries by the 'score' in descending order and print the sorted list."
   ]
  },
  {
   "cell_type": "code",
   "execution_count": 70,
   "id": "cba20894-9cf7-4997-bbbe-0ffa90208c86",
   "metadata": {},
   "outputs": [
    {
     "name": "stdout",
     "output_type": "stream",
     "text": [
      "[{'name': 'ABC', 'score': 75}, {'name': 'PQR', 'score': 85}, {'name': 'XYZ', 'score': 95}, {'name': 'DEF', 'score': 35}, {'name': 'JKL', 'score': 25}]\n",
      "{'name': 'XYZ', 'score': 95}\n",
      "{'name': 'PQR', 'score': 85}\n",
      "{'name': 'ABC', 'score': 75}\n",
      "{'name': 'DEF', 'score': 35}\n",
      "{'name': 'JKL', 'score': 25}\n"
     ]
    }
   ],
   "source": [
    "students = [\n",
    "    {'name': \"ABC\", 'score': 75},\n",
    "    {'name': \"PQR\", 'score': 85},\n",
    "    {'name': \"XYZ\", 'score': 95},\n",
    "    {'name': \"DEF\", 'score': 35},\n",
    "    {'name': \"JKL\", 'score': 25},\n",
    "    \n",
    "]\n",
    "print(students)\n",
    "\n",
    "sorted_students = sorted(students, key=lambda student: student['score'], reverse=True)\n",
    "for student in sorted_students:\n",
    "    print(student)"
   ]
  },
  {
   "cell_type": "markdown",
   "id": "fcb3109b-e398-42c1-b354-2155085af770",
   "metadata": {},
   "source": [
    "##  Matrix Transposition\n",
    "\n",
    "Write a function that takes a 3x3 matrix (nested list) as input and returns its transpose. Print the original and transposed matrices."
   ]
  },
  {
   "cell_type": "code",
   "execution_count": 85,
   "id": "465991e5-8dd6-4627-9649-7c21c208bab8",
   "metadata": {},
   "outputs": [
    {
     "name": "stdout",
     "output_type": "stream",
     "text": [
      "Original matrix\n",
      "[1, 2, 3]\n",
      "[4, 5, 6]\n",
      "[7, 8, 9]\n",
      "Transposed matrix\n",
      "[1, 4, 7]\n",
      "[2, 5, 8]\n",
      "[3, 6, 9]\n"
     ]
    }
   ],
   "source": [
    "original_matrix = [\n",
    "    [1,2,3],\n",
    "    [4,5,6],\n",
    "    [7,8,9]\n",
    "]\n",
    "def transpose_matrix(matrix):\n",
    "    transposed = [[matrix[j][i] for j in range(3)] for i in range(3)]\n",
    "    return transposed\n",
    "    \n",
    "transposed_matrix = transpose_matrix(original_matrix)\n",
    "\n",
    "print(\"Original matrix\")\n",
    "for row in original_matrix:\n",
    "    print(row)\n",
    "\n",
    "print(\"Transposed matrix\")\n",
    "for row1 in transposed_matrix:\n",
    "    print(row1)\n"
   ]
  },
  {
   "cell_type": "markdown",
   "id": "7559fce2-fdae-40f2-8ece-b616d27802ea",
   "metadata": {},
   "source": [
    "## Flattening a Nested List\n",
    "Write a function that takes a nested list and flattens it into a single list. Print the original and flattened lists."
   ]
  },
  {
   "cell_type": "code",
   "execution_count": 104,
   "id": "fb8b763f-4dd3-4da1-89b8-8f371fc9fc1d",
   "metadata": {},
   "outputs": [
    {
     "name": "stdout",
     "output_type": "stream",
     "text": [
      "[[1, 2], [3, 4], [5, 6]]\n",
      "[1, 2, 3, 4, 5, 6]\n"
     ]
    }
   ],
   "source": [
    "original_list = [[1,2], [3,4], [5,6]]\n",
    "def flattened_list(list):\n",
    "    flat_list=[]\n",
    "    for group in list:\n",
    "        flat_list+=group\n",
    "    return flat_list\n",
    "print(original_list)\n",
    "print(flattened_list(original_list))"
   ]
  },
  {
   "cell_type": "markdown",
   "id": "21165ca7-d35a-4357-b3e3-50b065b4cda2",
   "metadata": {},
   "source": [
    "## List Manipulation\n",
    "\n",
    "Create a list of the first 10 positive integers. Remove the elements at indices 2, 4, and 6, and insert the element '99' at index 5. Print the modified list."
   ]
  },
  {
   "cell_type": "code",
   "execution_count": 113,
   "id": "5c95f864-aa1c-4c0e-9f3e-9759603dfc70",
   "metadata": {},
   "outputs": [
    {
     "name": "stdout",
     "output_type": "stream",
     "text": [
      "[1, 2, 4, 5, 7, 99, 8, 10]\n"
     ]
    }
   ],
   "source": [
    "l = [x for x in range(1,11)]\n",
    "del l[2]\n",
    "del l[4]\n",
    "del l[6]\n",
    "\n",
    "l.insert(5,99)\n",
    "\n",
    "print(l)"
   ]
  },
  {
   "cell_type": "markdown",
   "id": "45c01429-9359-490b-ba5a-f65622b9c07b",
   "metadata": {},
   "source": [
    "## List Zipping\n",
    "\n",
    "Create two lists of the same length. Use the `zip` function to combine these lists into a list of tuples and print the result."
   ]
  },
  {
   "cell_type": "code",
   "execution_count": 122,
   "id": "3ff31cc9-b7f5-43dd-acc7-e307da554a00",
   "metadata": {},
   "outputs": [
    {
     "name": "stdout",
     "output_type": "stream",
     "text": [
      "[(1, 21), (2, 22), (3, 23), (4, 24), (5, 25), (6, 26), (7, 27), (8, 28), (9, 29)]\n"
     ]
    }
   ],
   "source": [
    "l1 = list(range(1,10))\n",
    "l2= list(range(21,30))\n",
    "zipped_list = list(zip(l1,l2))\n",
    "print(zipped_list)"
   ]
  },
  {
   "cell_type": "markdown",
   "id": "3bac214b-bfbb-4ab8-a265-72770b157681",
   "metadata": {},
   "source": [
    "## List Reversal\n",
    "\n",
    "Write a function that takes a list and returns a new list with the elements in reverse order. Print the original and reversed lists."
   ]
  },
  {
   "cell_type": "code",
   "execution_count": 126,
   "id": "8b24f675-1b24-40e8-8cb0-e6c923113371",
   "metadata": {},
   "outputs": [
    {
     "name": "stdout",
     "output_type": "stream",
     "text": [
      "[19, 18, 17, 16, 15, 14, 13, 12, 11, 10, 9, 8, 7, 6, 5, 4, 3, 2, 1]\n"
     ]
    }
   ],
   "source": [
    "original_list = list(range(1,20))\n",
    "\n",
    "def reverse_list(list):\n",
    "    return list[::-1]\n",
    "\n",
    "print(reverse_list(original_list))\n",
    "    \n",
    "    "
   ]
  },
  {
   "cell_type": "markdown",
   "id": "d5c97e21-a7f1-4a99-a72b-099529291756",
   "metadata": {},
   "source": [
    "## List Rotation\n",
    "\n",
    "Write a function that rotates a list by n positions. Print the original and rotated lists."
   ]
  },
  {
   "cell_type": "code",
   "execution_count": 129,
   "id": "e50faa14-9d4b-43d7-9838-6772963bd52a",
   "metadata": {},
   "outputs": [
    {
     "name": "stdout",
     "output_type": "stream",
     "text": [
      "[4, 5, 1, 2, 3]\n"
     ]
    }
   ],
   "source": [
    "def rotate_list(lst,n):\n",
    "    n=n%len(lst)\n",
    "    return lst[-n:]+lst[:-n]\n",
    "original_list=[1,2,3,4,5]\n",
    "n=2\n",
    "rotated=rotate_list(original_list, n)\n",
    "print(rotated)\n",
    "    "
   ]
  },
  {
   "cell_type": "markdown",
   "id": "3d6537ee-dfad-46b7-860d-c7b50ef5b726",
   "metadata": {},
   "source": [
    "## List Intersection\n",
    "\n",
    "Write a function that takes two lists and returns a new list containing only the elements that are present in both lists. Print the intersected list."
   ]
  },
  {
   "cell_type": "code",
   "execution_count": 132,
   "id": "7f921768-4192-4665-abbc-376243220fdd",
   "metadata": {},
   "outputs": [
    {
     "name": "stdout",
     "output_type": "stream",
     "text": [
      "[2, 3, 4]\n"
     ]
    }
   ],
   "source": [
    "def list_intersection(list1, list2):\n",
    "    return [item for item in list1 if item in list2]\n",
    "lst1 = [1,2,3,4,5]\n",
    "lst2=[2,3,4,6,7]\n",
    "\n",
    "print(list_intersection(lst1, lst2))"
   ]
  },
  {
   "cell_type": "code",
   "execution_count": null,
   "id": "aae21cfc-603e-4200-9727-5bce7a9a88f4",
   "metadata": {},
   "outputs": [],
   "source": []
  }
 ],
 "metadata": {
  "kernelspec": {
   "display_name": "Python [conda env:base] *",
   "language": "python",
   "name": "conda-base-py"
  },
  "language_info": {
   "codemirror_mode": {
    "name": "ipython",
    "version": 3
   },
   "file_extension": ".py",
   "mimetype": "text/x-python",
   "name": "python",
   "nbconvert_exporter": "python",
   "pygments_lexer": "ipython3",
   "version": "3.12.7"
  }
 },
 "nbformat": 4,
 "nbformat_minor": 5
}
