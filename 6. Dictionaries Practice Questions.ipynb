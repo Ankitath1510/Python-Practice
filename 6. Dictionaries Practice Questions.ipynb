{
 "cells": [
  {
   "cell_type": "markdown",
   "id": "834106e0",
   "metadata": {},
   "source": [
    "# Module 3: Data Structures Assignments\n",
    "## Lesson 3.4: Dictionaries\n",
    "### Assignment 1: Creating and Accessing Dictionaries\n",
    "\n",
    "Create a dictionary with the first 10 positive integers as keys and their squares as values. Print the dictionary.\n",
    "\n",
    "### Assignment 2: Accessing Dictionary Elements\n",
    "\n",
    "Print the value of the key 5 and the keys of the dictionary created in Assignment 1.\n",
    "\n",
    "### Assignment 3: Dictionary Methods\n",
    "\n",
    "Add a new key-value pair (11, 121) to the dictionary created in Assignment 1 and then remove the key-value pair with key 1. Print the modified dictionary.\n",
    "\n",
    "### Assignment 4: Iterating Over Dictionaries\n",
    "\n",
    "Iterate over the dictionary created in Assignment 1 and print each key-value pair.\n",
    "\n",
    "### Assignment 5: Dictionary Comprehensions\n",
    "\n",
    "Create a new dictionary containing the cubes of the first 10 positive integers using a dictionary comprehension. Print the new dictionary.\n",
    "\n",
    "### Assignment 6: Merging Dictionaries\n",
    "\n",
    "Create two dictionaries: one with keys as the first 5 positive integers and values as their squares, and another with keys as the next 5 positive integers and values as their squares. Merge these dictionaries into a single dictionary and print it.\n",
    "\n",
    "### Assignment 7: Nested Dictionaries\n",
    "\n",
    "Create a nested dictionary representing a student with keys 'name', 'age', 'grades', where 'grades' is another dictionary with keys 'math', 'science', and 'english'. Print the nested dictionary.\n",
    "\n",
    "### Assignment 8: Dictionary of Lists\n",
    "\n",
    "Create a dictionary where the keys are the first 5 positive integers and the values are lists containing the first 5 multiples of the key. Print the dictionary.\n",
    "\n",
    "### Assignment 9: Dictionary of Tuples\n",
    "\n",
    "Create a dictionary where the keys are the first 5 positive integers and the values are tuples containing the key and its square. Print the dictionary.\n",
    "\n",
    "### Assignment 10: Dictionary and List Conversion\n",
    "\n",
    "Create a dictionary with the first 5 positive integers as keys and their squares as values. Convert the dictionary to a list of tuples and print it.\n",
    "\n",
    "### Assignment 11: Dictionary Filtering\n",
    "\n",
    "Create a dictionary with the first 10 positive integers as keys and their squares as values. Create a new dictionary containing only the key-value pairs where the key is even. Print the new dictionary.\n",
    "\n",
    "### Assignment 12: Dictionary Key and Value Transformation\n",
    "\n",
    "Create a dictionary with the first 5 positive integers as keys and their squares as values. Create a new dictionary with keys and values swapped. Print the new dictionary.\n",
    "\n",
    "### Assignment 13: Default Dictionary\n",
    "\n",
    "Create a default dictionary where each key has a default value of an empty list. Add some elements to the lists and print the dictionary.\n",
    "\n",
    "### Assignment 14: Counting with Dictionaries\n",
    "\n",
    "Write a function that takes a string and returns a dictionary with the count of each character in the string. Print the dictionary.\n",
    "\n",
    "### Assignment 15: Dictionary and JSON\n",
    "\n",
    "Create a dictionary representing a book with keys 'title', 'author', 'year', and 'genre'. Convert the dictionary to a JSON string and print it."
   ]
  },
  {
   "cell_type": "markdown",
   "id": "d5c3df7f-940b-4047-b251-b3a74c0c929e",
   "metadata": {},
   "source": [
    "#### Creating and Accessing Dictionaries\n",
    "Create a dictionary with the first 10 positive integers as keys and their squares as values. Print the dictionary."
   ]
  },
  {
   "cell_type": "code",
   "execution_count": 4,
   "id": "16cd8a09-61f9-4915-9062-948ef7d6b56b",
   "metadata": {},
   "outputs": [
    {
     "name": "stdout",
     "output_type": "stream",
     "text": [
      "{1: 1, 2: 4, 3: 9, 4: 16, 5: 25, 6: 36, 7: 49, 8: 64, 9: 81, 10: 100}\n"
     ]
    }
   ],
   "source": [
    "square_dict = {x: x**2 for x in range(1,11)}\n",
    "print(square_dict)"
   ]
  },
  {
   "cell_type": "markdown",
   "id": "e37445c1-4d8f-4b11-b834-c0e43bd2147c",
   "metadata": {},
   "source": [
    "#### Accessing Dictionary Elements¶\n",
    "Print the value of the key 5 and the keys of the dictionary created in Assignment 1."
   ]
  },
  {
   "cell_type": "code",
   "execution_count": 11,
   "id": "ca872f32-18a9-4f5f-a515-9f3bee797b66",
   "metadata": {},
   "outputs": [
    {
     "name": "stdout",
     "output_type": "stream",
     "text": [
      "1 => 1\n",
      "2 => 4\n",
      "3 => 9\n",
      "4 => 16\n",
      "5 => 25\n",
      "6 => 36\n",
      "7 => 49\n",
      "8 => 64\n",
      "9 => 81\n",
      "10 => 100\n"
     ]
    }
   ],
   "source": [
    "for key, value in square_dict.items():\n",
    "    print(f\"{key} => {value}\")"
   ]
  },
  {
   "cell_type": "markdown",
   "id": "54a6f03e-d78d-4c3b-92d5-ce23dfca154e",
   "metadata": {},
   "source": [
    "#### Dictionary Methods¶\n",
    "Add a new key-value pair (11, 121) to the dictionary created in Assignment 1 and then remove the key-value pair with key 1. Print the modified dictionary."
   ]
  },
  {
   "cell_type": "code",
   "execution_count": 20,
   "id": "d222b4c4-8f47-47d3-a88b-d67d626ec665",
   "metadata": {},
   "outputs": [
    {
     "name": "stdout",
     "output_type": "stream",
     "text": [
      "{2: 4, 3: 9, 4: 16, 5: 25, 6: 36, 7: 49, 8: 64, 9: 81, 10: 100, 11: 121}\n"
     ]
    }
   ],
   "source": [
    "square_dict[11]=121\n",
    "square_dict.pop(1)\n",
    "print(square_dict)"
   ]
  },
  {
   "cell_type": "markdown",
   "id": "1c0dce6c-c753-4ed9-94e3-e4d2296d9e05",
   "metadata": {},
   "source": [
    "#### Iterating Over Dictionaries\n",
    "\n",
    "Iterate over the dictionary created in Assignment 1 and print each key-value pair."
   ]
  },
  {
   "cell_type": "code",
   "execution_count": 26,
   "id": "658fc3d8-419e-477d-966f-4e51547391a7",
   "metadata": {},
   "outputs": [
    {
     "name": "stdout",
     "output_type": "stream",
     "text": [
      "2=>4\n",
      "3=>9\n",
      "4=>16\n",
      "5=>25\n",
      "6=>36\n",
      "7=>49\n",
      "8=>64\n",
      "9=>81\n",
      "10=>100\n",
      "11=>121\n"
     ]
    }
   ],
   "source": [
    "for key, value in square_dict.items():\n",
    "    print(f\"{key}=>{value}\")"
   ]
  },
  {
   "cell_type": "markdown",
   "id": "d7bc813c-3430-4106-873d-0d67c943f930",
   "metadata": {},
   "source": [
    "#### Assignment 5: Dictionary Comprehensions\n",
    "\n",
    "Create a new dictionary containing the cubes of the first 10 positive integers using a dictionary comprehension. Print the new dictionary."
   ]
  },
  {
   "cell_type": "code",
   "execution_count": 29,
   "id": "5fe43095-9df9-44ba-931d-525f12665ba1",
   "metadata": {},
   "outputs": [
    {
     "name": "stdout",
     "output_type": "stream",
     "text": [
      "{1: 1, 2: 8, 3: 27, 4: 64, 5: 125, 6: 216, 7: 343, 8: 512, 9: 729, 10: 1000}\n"
     ]
    }
   ],
   "source": [
    "cubes_dict = {x: x**3 for x in range(1,11)}\n",
    "print(cubes_dict)"
   ]
  },
  {
   "cell_type": "markdown",
   "id": "7f34a520-0983-47d9-b870-bef06463a73f",
   "metadata": {},
   "source": [
    "#### Merging Dictionaries\n",
    "\n",
    "Create two dictionaries: one with keys as the first 5 positive integers and values as their squares, and another with keys as the next 5 positive integers and values as their squares. Merge these dictionaries into a single dictionary and print it."
   ]
  },
  {
   "cell_type": "code",
   "execution_count": 44,
   "id": "3296258e-538f-41d6-b581-bbcc157b7fe7",
   "metadata": {},
   "outputs": [
    {
     "name": "stdout",
     "output_type": "stream",
     "text": [
      "{6: 36, 7: 49, 8: 64, 9: 81, 10: 100}\n",
      "{1: 1, 2: 4, 3: 9, 4: 16, 5: 25, 6: 36, 7: 49, 8: 64, 9: 81, 10: 100}\n"
     ]
    }
   ],
   "source": [
    "dict1={x:x**2 for x in range(1,6)}\n",
    "dict2={y:y**2 for y in range(6,11)}\n",
    "print(dict2)\n",
    "merged_dict = {**dict1, **dict2}\n",
    "print(merged_dict)"
   ]
  },
  {
   "cell_type": "markdown",
   "id": "97f82243-a1db-438e-91e4-bf8fdf8f9968",
   "metadata": {},
   "source": [
    "#### Nested Dictionaries\n",
    "\n",
    "Create a nested dictionary representing a student with keys 'name', 'age', 'grades', where 'grades' is another dictionary with keys 'math', 'science', and 'english'. Print the nested dictionary."
   ]
  },
  {
   "cell_type": "code",
   "execution_count": 47,
   "id": "13f06986-f24f-42dd-9313-15a3e4e78986",
   "metadata": {},
   "outputs": [
    {
     "name": "stdout",
     "output_type": "stream",
     "text": [
      "{'name': 'Hello', 'age': 3, 'grades': {'math': 5, 'science': 6, 'english': 7}}\n"
     ]
    }
   ],
   "source": [
    "student ={\n",
    "    'name': 'Hello',\n",
    "    'age':3,\n",
    "    'grades': {\n",
    "        'math': 5,\n",
    "        'science': 6,\n",
    "        'english': 7\n",
    "}\n",
    "}\n",
    "print(student)"
   ]
  },
  {
   "cell_type": "markdown",
   "id": "3b306b38-a62c-4a94-bd3b-c3a94c275a2b",
   "metadata": {},
   "source": [
    "#### Dictionary of Lists\n",
    "\n",
    "Create a dictionary where the keys are the first 5 positive integers and the values are lists containing the first 5 multiples of the key. Print the dictionary."
   ]
  },
  {
   "cell_type": "code",
   "execution_count": 50,
   "id": "8b154873-d89f-4019-883e-fa2f211d47d9",
   "metadata": {},
   "outputs": [
    {
     "name": "stdout",
     "output_type": "stream",
     "text": [
      "{1: [1, 2, 3, 4, 5], 2: [2, 4, 6, 8, 10], 3: [3, 6, 9, 12, 15], 4: [4, 8, 12, 16, 20], 5: [5, 10, 15, 20, 25]}\n"
     ]
    }
   ],
   "source": [
    "multiples_dict = {x: [x*i for i in range(1,6)] for x in range(1,6)}\n",
    "print(multiples_dict)"
   ]
  },
  {
   "cell_type": "markdown",
   "id": "4f15fe3f-b841-4612-acb0-05a2b8002332",
   "metadata": {},
   "source": [
    "#### Dictionary of Tuples\n",
    "\n",
    "Create a dictionary where the keys are the first 5 positive integers and the values are tuples containing the key and its square. Print the dictionary."
   ]
  },
  {
   "cell_type": "code",
   "execution_count": 57,
   "id": "27c6fe5e-4f4c-44b8-b894-149dae602b54",
   "metadata": {},
   "outputs": [
    {
     "name": "stdout",
     "output_type": "stream",
     "text": [
      "{1: (1, 1), 2: (2, 4), 3: (3, 9), 4: (4, 16), 5: (5, 25)}\n"
     ]
    }
   ],
   "source": [
    "tuples_dict = {x: (x, x**2) for x in range(1,6)}\n",
    "print(tuples_dict)"
   ]
  },
  {
   "cell_type": "markdown",
   "id": "c0a67a41-43ef-474b-8781-26b387ab84db",
   "metadata": {},
   "source": [
    "#### Dictionary and List Conversion\n",
    "\n",
    "Create a dictionary with the first 5 positive integers as keys and their squares as values. Convert the dictionary to a list of tuples and print it."
   ]
  },
  {
   "cell_type": "code",
   "execution_count": 68,
   "id": "52699645-6306-4c48-8163-89609db33fcb",
   "metadata": {},
   "outputs": [
    {
     "name": "stdout",
     "output_type": "stream",
     "text": [
      "{1: 1, 2: 4, 3: 9, 4: 16, 5: 25}\n",
      "[1, 2, 3, 4, 5]\n",
      "[1, 4, 9, 16, 25]\n"
     ]
    }
   ],
   "source": [
    "list_dict = {x: x**2 for x in range(1,6)}\n",
    "print(list_dict)\n",
    "list1 =[]\n",
    "list2=[]\n",
    "for key,value in list_dict.items():\n",
    "    list1.append(key)\n",
    "    list2.append(value)\n",
    "print(list1)\n",
    "print(list2)"
   ]
  },
  {
   "cell_type": "markdown",
   "id": "9ad1ca79-d244-4579-a4a8-fccd6d6073d2",
   "metadata": {},
   "source": [
    "#### Dictionary Filtering\n",
    "\n",
    "Create a dictionary with the first 10 positive integers as keys and their squares as values. Create a new dictionary containing only the key-value pairs where the key is even. Print the new dictionary.\n"
   ]
  },
  {
   "cell_type": "code",
   "execution_count": 73,
   "id": "356fd941-c6cf-48ae-a00c-1e9bc15432eb",
   "metadata": {},
   "outputs": [
    {
     "name": "stdout",
     "output_type": "stream",
     "text": [
      "{1: 1, 2: 4, 3: 9, 4: 16, 5: 25, 6: 36, 7: 49, 8: 64, 9: 81, 10: 100}\n",
      "{2: 4, 4: 16, 6: 36, 8: 64, 10: 100}\n"
     ]
    }
   ],
   "source": [
    "dict = {x: x**2 for x in range(1,11)}\n",
    "dict1 = {x:x**2 for x in range(1,11) if x%2==0}\n",
    "print(dict)\n",
    "print(dict1)"
   ]
  },
  {
   "cell_type": "markdown",
   "id": "57103e1f-71e8-4557-a83a-4808379593b0",
   "metadata": {},
   "source": [
    "#### Dictionary Key and Value Transformation\n",
    "\n",
    "Create a dictionary with the first 5 positive integers as keys and their squares as values. Create a new dictionary with keys and values swapped. Print the new dictionary."
   ]
  },
  {
   "cell_type": "code",
   "execution_count": 76,
   "id": "284823e3-ae4f-4091-b857-778f15ac7a73",
   "metadata": {},
   "outputs": [
    {
     "name": "stdout",
     "output_type": "stream",
     "text": [
      "1=>1\n",
      "4=>2\n",
      "9=>3\n",
      "16=>4\n",
      "25=>5\n",
      "36=>6\n",
      "49=>7\n",
      "64=>8\n",
      "81=>9\n",
      "100=>10\n"
     ]
    }
   ],
   "source": [
    "dict1 = {x:x**2 for x in range(1,6)}\n",
    "for key, value in dict.items():\n",
    "    key1=value\n",
    "    value1=key\n",
    "    print(f\"{key1}=>{value1}\")"
   ]
  },
  {
   "cell_type": "markdown",
   "id": "abe3f160-5105-4148-8172-a9912774f885",
   "metadata": {},
   "source": [
    "#### Default Dictionary\n",
    "\n",
    "Create a default dictionary where each key has a default value of an empty list. Add some elements to the lists and print the dictionary."
   ]
  },
  {
   "cell_type": "code",
   "execution_count": 83,
   "id": "81ef2b9f-b39f-4535-be86-b2b1613176f2",
   "metadata": {},
   "outputs": [
    {
     "name": "stdout",
     "output_type": "stream",
     "text": [
      "defaultdict(<class 'list'>, {})\n",
      "defaultdict(<class 'list'>, {'fruits': ['apple', 'banana'], 'vegetables': ['carrot', 'spinach'], 'grains': ['rice']})\n"
     ]
    }
   ],
   "source": [
    "from collections import defaultdict\n",
    "mydict = defaultdict(list)\n",
    "print(mydict)\n",
    "mydict['fruits'].append('apple')\n",
    "mydict['fruits'].append('banana')\n",
    "mydict['vegetables'].append('carrot')\n",
    "mydict['vegetables'].append('spinach')\n",
    "mydict['grains'].append('rice')\n",
    "print(mydict)"
   ]
  },
  {
   "cell_type": "markdown",
   "id": "fdc1b792-708f-48f0-b2a5-ce3334d6fe5a",
   "metadata": {},
   "source": [
    "#### Counting with Dictionaries\n",
    "\n",
    "Write a function that takes a string and returns a dictionary with the count of each character in the string. Print the dictionary."
   ]
  },
  {
   "cell_type": "code",
   "execution_count": 86,
   "id": "dfbec225-59cf-4a7a-ace5-024ea5424885",
   "metadata": {},
   "outputs": [
    {
     "name": "stdin",
     "output_type": "stream",
     "text": [
      "Enter the string hello\n"
     ]
    },
    {
     "name": "stdout",
     "output_type": "stream",
     "text": [
      "{'h': 1, 'e': 1, 'l': 2, 'o': 1}\n"
     ]
    }
   ],
   "source": [
    "a = input(\"Enter the string\")\n",
    "char_count={}\n",
    "for char in a:\n",
    "    if char in char_count:\n",
    "        char_count[char]+=1\n",
    "    else:\n",
    "        char_count[char]=1\n",
    "print(char_count)"
   ]
  },
  {
   "cell_type": "markdown",
   "id": "38e76949-0e7e-4d29-ba47-a5c79ccdafee",
   "metadata": {},
   "source": [
    "#### Dictionary and JSON\n",
    "\n",
    "Create a dictionary representing a book with keys 'title', 'author', 'year', and 'genre'. Convert the dictionary to a JSON string and print it."
   ]
  },
  {
   "cell_type": "code",
   "execution_count": 92,
   "id": "38f2f0e5-c460-4980-9b29-17a1623e0f9d",
   "metadata": {},
   "outputs": [
    {
     "name": "stdout",
     "output_type": "stream",
     "text": [
      "{\"title\": \"ABC\", \"author\": \"PQR\", \"year\": 2020, \"genre\": \"horror\"}\n"
     ]
    },
    {
     "data": {
      "text/plain": [
       "str"
      ]
     },
     "execution_count": 92,
     "metadata": {},
     "output_type": "execute_result"
    }
   ],
   "source": [
    "import json\n",
    "book ={\n",
    "    'title': 'ABC',\n",
    "    'author': 'PQR',\n",
    "    'year':2020,\n",
    "    'genre':'horror'\n",
    "}\n",
    "json_string = json.dumps(book)\n",
    "print(json_string)\n",
    "type(json_string)"
   ]
  },
  {
   "cell_type": "code",
   "execution_count": null,
   "id": "00c23c86-1233-4253-96d2-d0c57fc42f02",
   "metadata": {},
   "outputs": [],
   "source": []
  }
 ],
 "metadata": {
  "kernelspec": {
   "display_name": "Python [conda env:base] *",
   "language": "python",
   "name": "conda-base-py"
  },
  "language_info": {
   "codemirror_mode": {
    "name": "ipython",
    "version": 3
   },
   "file_extension": ".py",
   "mimetype": "text/x-python",
   "name": "python",
   "nbconvert_exporter": "python",
   "pygments_lexer": "ipython3",
   "version": "3.12.7"
  }
 },
 "nbformat": 4,
 "nbformat_minor": 5
}
